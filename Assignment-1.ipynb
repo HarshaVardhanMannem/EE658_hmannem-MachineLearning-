{
 "cells": [
  {
   "cell_type": "markdown",
   "id": "e560949b",
   "metadata": {},
   "source": [
    "#                           Assignment 1: Linear Regression                                                #"
   ]
  },
  {
   "cell_type": "code",
   "execution_count": 1,
   "id": "766119eb",
   "metadata": {},
   "outputs": [],
   "source": [
    "# Importing required libraries\n",
    "\n",
    "import numpy as np\n",
    "import pandas as pd\n",
    "from sklearn.preprocessing import OneHotEncoder\n",
    "from sklearn.preprocessing import MinMaxScaler\n",
    "from sklearn.model_selection import train_test_split\n",
    "import matplotlib.pyplot as plt\n",
    "import time"
   ]
  },
  {
   "cell_type": "markdown",
   "id": "f374154d",
   "metadata": {},
   "source": [
    "# 1.\tData Preprocessing:\n",
    "•\tLoad the dataset and print a sample number of rows.\n",
    "•\tFind the number of rows with any missing values. Remove any row with a missing value.\n",
    "•\tConvert 'Gender', 'Smoker', and 'Region' into numerical values suitable for regression analysis (e.g., using one-hot encoding for 'region' and binary encoding for 'sex' and 'smoker').\n",
    "•\tNormalize the features using Min-Max scaling.\n"
   ]
  },
  {
   "cell_type": "code",
   "execution_count": 2,
   "id": "19fbce08",
   "metadata": {},
   "outputs": [],
   "source": [
    "#Loading dataset into a dataframe\n",
    "\n",
    "df = pd.read_csv('insurance.csv')"
   ]
  },
  {
   "cell_type": "code",
   "execution_count": 3,
   "id": "ae6948df",
   "metadata": {},
   "outputs": [
    {
     "data": {
      "text/html": [
       "<div>\n",
       "<style scoped>\n",
       "    .dataframe tbody tr th:only-of-type {\n",
       "        vertical-align: middle;\n",
       "    }\n",
       "\n",
       "    .dataframe tbody tr th {\n",
       "        vertical-align: top;\n",
       "    }\n",
       "\n",
       "    .dataframe thead th {\n",
       "        text-align: right;\n",
       "    }\n",
       "</style>\n",
       "<table border=\"1\" class=\"dataframe\">\n",
       "  <thead>\n",
       "    <tr style=\"text-align: right;\">\n",
       "      <th></th>\n",
       "      <th>Age</th>\n",
       "      <th>Gender</th>\n",
       "      <th>BMI</th>\n",
       "      <th>Children</th>\n",
       "      <th>Smoker</th>\n",
       "      <th>Region</th>\n",
       "      <th>Expenses</th>\n",
       "    </tr>\n",
       "  </thead>\n",
       "  <tbody>\n",
       "    <tr>\n",
       "      <th>0</th>\n",
       "      <td>19</td>\n",
       "      <td>female</td>\n",
       "      <td>27.9</td>\n",
       "      <td>0</td>\n",
       "      <td>yes</td>\n",
       "      <td>southwest</td>\n",
       "      <td>16884.92</td>\n",
       "    </tr>\n",
       "    <tr>\n",
       "      <th>1</th>\n",
       "      <td>18</td>\n",
       "      <td>male</td>\n",
       "      <td>33.8</td>\n",
       "      <td>1</td>\n",
       "      <td>no</td>\n",
       "      <td>southeast</td>\n",
       "      <td>1725.55</td>\n",
       "    </tr>\n",
       "    <tr>\n",
       "      <th>2</th>\n",
       "      <td>28</td>\n",
       "      <td>male</td>\n",
       "      <td>33.0</td>\n",
       "      <td>3</td>\n",
       "      <td>no</td>\n",
       "      <td>southeast</td>\n",
       "      <td>4449.46</td>\n",
       "    </tr>\n",
       "    <tr>\n",
       "      <th>3</th>\n",
       "      <td>33</td>\n",
       "      <td>male</td>\n",
       "      <td>22.7</td>\n",
       "      <td>0</td>\n",
       "      <td>no</td>\n",
       "      <td>northwest</td>\n",
       "      <td>21984.47</td>\n",
       "    </tr>\n",
       "    <tr>\n",
       "      <th>4</th>\n",
       "      <td>32</td>\n",
       "      <td>male</td>\n",
       "      <td>28.9</td>\n",
       "      <td>0</td>\n",
       "      <td>no</td>\n",
       "      <td>northwest</td>\n",
       "      <td>3866.86</td>\n",
       "    </tr>\n",
       "    <tr>\n",
       "      <th>5</th>\n",
       "      <td>31</td>\n",
       "      <td>female</td>\n",
       "      <td>25.7</td>\n",
       "      <td>0</td>\n",
       "      <td>no</td>\n",
       "      <td>southeast</td>\n",
       "      <td>3756.62</td>\n",
       "    </tr>\n",
       "    <tr>\n",
       "      <th>6</th>\n",
       "      <td>46</td>\n",
       "      <td>female</td>\n",
       "      <td>33.4</td>\n",
       "      <td>1</td>\n",
       "      <td>no</td>\n",
       "      <td>southeast</td>\n",
       "      <td>8240.59</td>\n",
       "    </tr>\n",
       "    <tr>\n",
       "      <th>7</th>\n",
       "      <td>37</td>\n",
       "      <td>female</td>\n",
       "      <td>27.7</td>\n",
       "      <td>3</td>\n",
       "      <td>no</td>\n",
       "      <td>northwest</td>\n",
       "      <td>7281.51</td>\n",
       "    </tr>\n",
       "    <tr>\n",
       "      <th>8</th>\n",
       "      <td>37</td>\n",
       "      <td>male</td>\n",
       "      <td>NaN</td>\n",
       "      <td>2</td>\n",
       "      <td>no</td>\n",
       "      <td>northeast</td>\n",
       "      <td>6406.41</td>\n",
       "    </tr>\n",
       "    <tr>\n",
       "      <th>9</th>\n",
       "      <td>60</td>\n",
       "      <td>female</td>\n",
       "      <td>25.8</td>\n",
       "      <td>0</td>\n",
       "      <td>no</td>\n",
       "      <td>northwest</td>\n",
       "      <td>28923.14</td>\n",
       "    </tr>\n",
       "  </tbody>\n",
       "</table>\n",
       "</div>"
      ],
      "text/plain": [
       "   Age  Gender   BMI  Children Smoker     Region  Expenses\n",
       "0   19  female  27.9         0    yes  southwest  16884.92\n",
       "1   18    male  33.8         1     no  southeast   1725.55\n",
       "2   28    male  33.0         3     no  southeast   4449.46\n",
       "3   33    male  22.7         0     no  northwest  21984.47\n",
       "4   32    male  28.9         0     no  northwest   3866.86\n",
       "5   31  female  25.7         0     no  southeast   3756.62\n",
       "6   46  female  33.4         1     no  southeast   8240.59\n",
       "7   37  female  27.7         3     no  northwest   7281.51\n",
       "8   37    male   NaN         2     no  northeast   6406.41\n",
       "9   60  female  25.8         0     no  northwest  28923.14"
      ]
     },
     "execution_count": 3,
     "metadata": {},
     "output_type": "execute_result"
    }
   ],
   "source": [
    "#Printing first 10 rows of the dataset\n",
    "\n",
    "df.head(10)"
   ]
  },
  {
   "cell_type": "code",
   "execution_count": 4,
   "id": "ffb75800",
   "metadata": {},
   "outputs": [
    {
     "name": "stdout",
     "output_type": "stream",
     "text": [
      "1.2705530642750373\n"
     ]
    }
   ],
   "source": [
    "# Checking for missing values \n",
    "# Get the count of rows with at least one missing value\n",
    "\n",
    "missing_values = df[df.isna().any(axis=1)]\n",
    "\n",
    "missing_count = len(missing_values)\n",
    "\n",
    "total_len = len(df)\n",
    "\n",
    "print((missing_count/total_len)*100)\n",
    "\n"
   ]
  },
  {
   "cell_type": "code",
   "execution_count": 5,
   "id": "687e9ad4",
   "metadata": {},
   "outputs": [
    {
     "name": "stdout",
     "output_type": "stream",
     "text": [
      "Shape of dataframe before handling missing values is:  (1338, 7)\n",
      "Shape of dataframe after handling missing values is:  (1321, 7)\n"
     ]
    }
   ],
   "source": [
    "#As the percentage of missing values is less i.e 1.27% of total data, handling the missing values by dropping the rows \n",
    "\n",
    "#Shape of dataframe before handling missing values:\n",
    "\n",
    "print('Shape of dataframe before handling missing values is: ',df.shape)\n",
    "\n",
    "# Dropping rows with atleast one null values\n",
    "\n",
    "df.dropna(inplace=True)\n",
    "\n",
    "print('Shape of dataframe after handling missing values is: ',df.shape)\n"
   ]
  },
  {
   "cell_type": "code",
   "execution_count": 6,
   "id": "a6b25ef2",
   "metadata": {},
   "outputs": [
    {
     "name": "stdout",
     "output_type": "stream",
     "text": [
      "      Age  Gender   BMI  Children  Smoker  Expenses  Region_northwest  \\\n",
      "0      19       1  27.9         0       1  16884.92             False   \n",
      "1      18       0  33.8         1       0   1725.55             False   \n",
      "2      28       0  33.0         3       0   4449.46             False   \n",
      "3      33       0  22.7         0       0  21984.47              True   \n",
      "4      32       0  28.9         0       0   3866.86              True   \n",
      "...   ...     ...   ...       ...     ...       ...               ...   \n",
      "1331   23       1  33.4         0       0  10795.94             False   \n",
      "1332   52       1  44.7         3       0  11411.69             False   \n",
      "1333   50       0  31.0         3       0  10600.55              True   \n",
      "1336   21       1  25.8         0       0   2007.95             False   \n",
      "1337   61       1  29.1         0       1  29141.36              True   \n",
      "\n",
      "      Region_southeast  Region_southwest  \n",
      "0                False              True  \n",
      "1                 True             False  \n",
      "2                 True             False  \n",
      "3                False             False  \n",
      "4                False             False  \n",
      "...                ...               ...  \n",
      "1331             False              True  \n",
      "1332             False              True  \n",
      "1333             False             False  \n",
      "1336             False              True  \n",
      "1337             False             False  \n",
      "\n",
      "[1321 rows x 9 columns]\n"
     ]
    }
   ],
   "source": [
    "# Binary encoding for Gender and Smoker\n",
    "df['Gender'] = df['Gender'].map({'male': 0, 'female': 1})\n",
    "df['Smoker'] = df['Smoker'].map({'no': 0, 'yes': 1})\n",
    "\n",
    "# One-hot encoding for Region\n",
    "df = pd.get_dummies(df, columns=['Region'],drop_first=True)\n",
    "\n",
    "print(df)"
   ]
  },
  {
   "cell_type": "code",
   "execution_count": 7,
   "id": "6545cd45",
   "metadata": {},
   "outputs": [
    {
     "name": "stdout",
     "output_type": "stream",
     "text": [
      "           Age  Gender       BMI  Children  Smoker  Expenses  \\\n",
      "0     0.021739       1  0.320755  0.481481       1  16884.92   \n",
      "1     0.000000       0  0.479784  0.488889       0   1725.55   \n",
      "2     0.217391       0  0.458221  0.503704       0   4449.46   \n",
      "3     0.326087       0  0.180593  0.481481       0  21984.47   \n",
      "4     0.304348       0  0.347709  0.481481       0   3866.86   \n",
      "...        ...     ...       ...       ...     ...       ...   \n",
      "1331  0.108696       1  0.469003  0.481481       0  10795.94   \n",
      "1332  0.739130       1  0.773585  0.503704       0  11411.69   \n",
      "1333  0.695652       0  0.404313  0.503704       0  10600.55   \n",
      "1336  0.065217       1  0.264151  0.481481       0   2007.95   \n",
      "1337  0.934783       1  0.353100  0.481481       1  29141.36   \n",
      "\n",
      "      Region_northwest  Region_southeast  Region_southwest  \n",
      "0                False             False              True  \n",
      "1                False              True             False  \n",
      "2                False              True             False  \n",
      "3                 True             False             False  \n",
      "4                 True             False             False  \n",
      "...                ...               ...               ...  \n",
      "1331             False             False              True  \n",
      "1332             False             False              True  \n",
      "1333              True             False             False  \n",
      "1336             False             False              True  \n",
      "1337              True             False             False  \n",
      "\n",
      "[1321 rows x 9 columns]\n"
     ]
    }
   ],
   "source": [
    "#Normalizing the features using Min-Max scaling\n",
    "\n",
    "scaler = MinMaxScaler()\n",
    "df[['Age', 'BMI', 'Children']] = scaler.fit_transform(df[['Age', 'BMI', 'Children']])\n",
    "\n",
    "print(df)"
   ]
  },
  {
   "cell_type": "markdown",
   "id": "d4f78ac0",
   "metadata": {},
   "source": [
    "# 2.\tSplitting the Data:\n",
    "•\tDivide the data into “features” and “target” subsets.\n",
    "•\tSplit the data into training and testing subsets (commonly a 70/30, 75/25, or 80/20 split).\n"
   ]
  },
  {
   "cell_type": "code",
   "execution_count": 8,
   "id": "47b8672b",
   "metadata": {},
   "outputs": [
    {
     "name": "stdout",
     "output_type": "stream",
     "text": [
      "Shape of features:  (1321, 8)\n",
      "Shape of target value:  (1321,)\n"
     ]
    }
   ],
   "source": [
    "# Splitting the dataframe into features and target value\n",
    "\n",
    "X = df.drop('Expenses', axis=1)  # Dropping the target column to get features\n",
    "y = df['Expenses'] \n",
    "\n",
    "print(\"Shape of features: \",X.shape)\n",
    "print(\"Shape of target value: \",y.shape)\n",
    "\n"
   ]
  },
  {
   "cell_type": "code",
   "execution_count": 9,
   "id": "4a69ff62",
   "metadata": {},
   "outputs": [
    {
     "name": "stdout",
     "output_type": "stream",
     "text": [
      "Shape of X_train is:  (1056, 8)\n",
      "Shape of X_test is:  (265, 8)\n",
      "Shape of y_train is:  (1056,)\n",
      "Shape of y_test is:  (265,)\n",
      "Shape of y_train is:  (1056, 1)\n",
      "Shape of y_test is:  (265, 1)\n"
     ]
    }
   ],
   "source": [
    "# Split data into train and test sets\n",
    "X_train, X_test, y_train, y_test = train_test_split(X, y, test_size=0.2, random_state=42)\n",
    "\n",
    "#Printing shapes of train and test sets \n",
    "\n",
    "print(\"Shape of X_train is: \",X_train.shape)\n",
    "print(\"Shape of X_test is: \",X_test.shape)\n",
    "print(\"Shape of y_train is: \",y_train.shape)\n",
    "print(\"Shape of y_test is: \",y_test.shape)\n",
    "\n",
    "\n",
    "# Convert y_train and y_test to NumPy arrays\n",
    "y_train = y_train.to_numpy().reshape(-1, 1)\n",
    "y_test = y_test.to_numpy().reshape(-1, 1)\n",
    "\n",
    "# Reshaping the y_train and y_test to vectors and printing the shape\n",
    "\n",
    "print(\"Shape of y_train is: \",y_train.shape)\n",
    "print(\"Shape of y_test is: \",y_test.shape)\n"
   ]
  },
  {
   "cell_type": "markdown",
   "id": "a8c423e3",
   "metadata": {},
   "source": [
    "# 3.\tGradient Descent Implementation:\n",
    "•\tImplement the gradient descent algorithm (without the Scikit-Learn library) to find the regression line. Initialize parameters randomly and update them iteratively to minimize the loss function. Record the loss value for each iteration:\n",
    "\n",
    "•\tShow the coefficients and intercept of the model.\n",
    "•\tModify the code to implement the exponential decay method for the learning rate.\n",
    "•\tPlot the loss values as a function of the number of iterations for the constant and decaying learning rates.\n",
    "\n"
   ]
  },
  {
   "cell_type": "code",
   "execution_count": 10,
   "id": "867a4feb",
   "metadata": {},
   "outputs": [],
   "source": [
    "#Implement the gradient descent algorithm (without the Scikit-Learn library) to find the regression line. Initialize parameters randomly and update them iteratively to minimize the loss function. Record the loss value for each iteration:\n",
    "\n",
    "#Implementation of gradient_decent method without library to find regression line\n",
    "\n",
    "def gradient_decent(X_b,W,n_iterations,alpha):\n",
    "    start_time = time.time()\n",
    "    loss = []                          # Loss value for each iteratio\n",
    "    for iteration in range(n_iterations):\n",
    "        gradients = 1/m * X_b.T.dot(X_b.dot(W) - y_train)\n",
    "        W = W - alpha * gradients\n",
    "        predictions = X_b.dot(W)\n",
    "        loss.append(mean_squared_error(y_train, predictions))\n",
    "    \n",
    "    end_time = time.time()\n",
    "    computation_time = end_time - start_time\n",
    "    \n",
    "    return W,loss,computation_time\n"
   ]
  },
  {
   "cell_type": "code",
   "execution_count": 11,
   "id": "49295025",
   "metadata": {},
   "outputs": [
    {
     "name": "stdout",
     "output_type": "stream",
     "text": [
      "Coefficients and intercept of the model without exponential decay method is:\n",
      "[[-1211.9450045585897]\n",
      " [12550.56041417749]\n",
      " [203.31993516338486]\n",
      " [10110.303458479566]\n",
      " [523.7193806744122]\n",
      " [23877.946142249923]\n",
      " [-280.79347056898763]\n",
      " [-1116.6914448024797]\n",
      " [-1067.2987337646148]]\n",
      "Time taken for computation is:  37.96727252006531\n"
     ]
    }
   ],
   "source": [
    "from sklearn.metrics import mean_absolute_error, mean_squared_error\n",
    "\n",
    "# Model 1\n",
    "\n",
    "X_b = np.c_[np.ones((X_train.shape[0], 1)), X_train]\n",
    "m = X_train.shape[0]  # number of data points\n",
    "n = X_train.shape[0]   # number of features\n",
    "\n",
    "\n",
    "alpha = 0.01                  # Learning rate\n",
    "n_iterations = 10000  # Number of iterations\n",
    "W = np.random.randn(X_train.shape[1]+1,1)  # Weight matrix\n",
    "\n",
    "#•\tShow the coefficients and intercept of the model.\n",
    "\n",
    "W1,loss,comp_time1 = gradient_decent(X_b,W,n_iterations,alpha)\n",
    "\n",
    "print(\"Coefficients and intercept of the model without exponential decay method is:\")\n",
    "print(W1)\n",
    "\n",
    "print(\"Time taken for computation is: \",comp_time1)\n"
   ]
  },
  {
   "cell_type": "code",
   "execution_count": null,
   "id": "e3e45f56",
   "metadata": {},
   "outputs": [],
   "source": []
  },
  {
   "cell_type": "code",
   "execution_count": 12,
   "id": "d57ea09f",
   "metadata": {},
   "outputs": [
    {
     "name": "stdout",
     "output_type": "stream",
     "text": [
      "Coefficients and intercept of the model with decay method:\n",
      "[[3542.756062036804]\n",
      " [2080.408171859396]\n",
      " [1506.5697799255365]\n",
      " [1527.247432556081]\n",
      " [1743.152214745935]\n",
      " [2192.240239084913]\n",
      " [824.2051482339846]\n",
      " [1103.8394970012369]\n",
      " [723.4807667854919]]\n",
      "Time taken for computation is:  37.96727252006531\n"
     ]
    },
    {
     "data": {
      "image/png": "[encoded data removed]",
      "text/plain": [
       "<Figure size 1000x600 with 1 Axes>"
      ]
     },
     "metadata": {},
     "output_type": "display_data"
    }
   ],
   "source": [
    "#•\tModify the code to implement the exponential decay method for the learning rate.\n",
    "\n",
    "from sklearn.metrics import mean_absolute_error, mean_squared_error\n",
    "\n",
    "# Assuming X_train, y_train are defined\n",
    "X_b = np.c_[np.ones((X_train.shape[0], 1)), X_train]\n",
    "m = X_train.shape[0]  # number of data points\n",
    "n = X_train.shape[1]  # number of features\n",
    "\n",
    "n_iterations = 10000  # Number of iterations\n",
    "W2 = np.random.randn(n + 1,1)  # Weight matrix\n",
    "alpha = 0.01                  # Learning rate\n",
    "\n",
    "# Constants for exponential decay\n",
    "decay_rate = 0.95\n",
    "initial_learning_rate = 0.01\n",
    "\n",
    "loss_constant_lr = []  # Loss value for constant learning rate\n",
    "loss_decaying_lr = []  # Loss value for decaying learning rate\n",
    "\n",
    "start_time2 = time.time()\n",
    "\n",
    "for iteration in range(n_iterations):\n",
    "    gradients = 1/m * X_b.T.dot(X_b.dot(W2) - y_train)\n",
    "    W2 = W2 - alpha * gradients\n",
    "    predictions = X_b.dot(W2)\n",
    "    loss_constant_lr.append(mean_squared_error(y_train, predictions))\n",
    "    \n",
    "    # Exponential decay for learning rate\n",
    "    alpha = initial_learning_rate * (decay_rate ** iteration)\n",
    "    \n",
    "    # Update weights with decaying learning rate\n",
    "    W2 = W2 - alpha * gradients\n",
    "    predictions = X_b.dot(W)\n",
    "    loss_decaying_lr.append(mean_squared_error(y_train, predictions))\n",
    "    \n",
    "end_time2 = time.time()\n",
    "\n",
    "comp_time2= end_time2 - start_time2\n",
    "\n",
    "print(\"Coefficients and intercept of the model with decay method:\")\n",
    "print(W2)\n",
    "\n",
    "print(\"Time taken for computation is: \",comp_time1)\n",
    "\n",
    "\n",
    "\n",
    "#•\tPlot the loss values as a function of the number of iterations for the constant and decaying learning rates.\n",
    "\n",
    "# Plotting\n",
    "plt.figure(figsize=(10, 6))\n",
    "plt.plot(range(n_iterations), loss_constant_lr, label='Constant Learning Rate',color='Red')\n",
    "plt.plot(range(n_iterations), loss_decaying_lr, label='Decaying Learning Rate',color ='black')\n",
    "plt.xlabel('Number of Iterations')\n",
    "plt.ylabel('Loss')\n",
    "plt.title('Loss vs. Number of Iterations')\n",
    "plt.legend()\n",
    "plt.grid(True)\n",
    "plt.show()"
   ]
  },
  {
   "cell_type": "markdown",
   "id": "f7b598bd",
   "metadata": {},
   "source": [
    "# Constant Learning Rate\n",
    "The learning rate (α) is fixed during the training procedure in constant learning rate optimisation. The amount of the step made in each iteration towards the cost function's minimum is determined by the learning rate. The algorithm may take a long time to converge if the learning rate is too modest, and it may overshoot the minimum or even diverge if it is too great.\n",
    "\n",
    "# Decaying Learning Rate\n",
    "The learning rate falls with time in decaying learning rate optimisation. Larger steps at the start of training, which helps speed up convergence, and smaller steps as the optimisation process gets closer to convergence, which helps fine-tune the parameters, are made possible by this method. The learning rate can be decreased using a variety of techniques, including adaptive techniques like Adam, step decay, and exponential decay.\n",
    "\n",
    "### Comparison\n",
    "Constant Learning Rate: \n",
    "  - Pros: Simple to implement, stable if the learning rate is well-tuned.\n",
    "  - Cons: Prone to convergence issues if the learning rate is poorly chosen. May take longer to converge if the learning rate is too small.\n",
    "\n",
    "Decaying Learning Rate\n",
    "  - Pros: Faster convergence in the initial stages, more stable and fine-tuned adjustments in later stages.\n",
    "  - Cons: Requires tuning hyperparameters related to decay rate or schedule.\n"
   ]
  },
  {
   "cell_type": "markdown",
   "id": "2215173c",
   "metadata": {},
   "source": [
    "For our insurance dataset the constant learning performs well as the dataset size is very small, so there is no need for the decay leanring rate method as it may require more epochs or iterations to make the model converge which increases the compuatation time. For the larger datasets, the decay leanring method is very useful to make the model converge."
   ]
  },
  {
   "cell_type": "markdown",
   "id": "c1a814e4",
   "metadata": {},
   "source": [
    "# 4.\tModel Evaluation:\n",
    "•\tPredict the expenses for the testing dataset using the trained model.\n",
    "•\tCompute the Mean Absolute Error (MAE) and Mean Squared Error (MSE) of the predictions.\n",
    "•\tPlot a histogram of the error distribution.\n"
   ]
  },
  {
   "cell_type": "code",
   "execution_count": 13,
   "id": "7c079efc",
   "metadata": {},
   "outputs": [],
   "source": [
    "# Predict expenses for the testing dataset\n",
    "\n",
    "def predict(W):\n",
    "    X_test_b = np.c_[np.ones((X_test.shape[0], 1)), X_test]\n",
    "    predictions_test = X_test_b.dot(W)\n",
    "    return predictions_test\n",
    "\n",
    "def error_calculation(predictions_test,y_test):\n",
    "    # Compute Mean Absolute Error (MAE) and Mean Squared Error (MSE)\n",
    "    MAE = np.mean(np.abs(predictions_test - y_test))\n",
    "    MSE = np.mean((predictions_test - y_test)**2)\n",
    "    \n",
    "    return MAE ,MSE\n",
    "\n",
    "def histogramPlot(predictions_test,y_test):\n",
    "    # Plot histogram of error distribution\n",
    "    error = predictions_test - y_test\n",
    "    plt.figure(figsize=(10, 6))\n",
    "    plt.hist(error, bins=50, edgecolor='k')\n",
    "    plt.xlabel('Error')\n",
    "    plt.ylabel('Frequency')\n",
    "    plt.title('Error Distribution')\n",
    "    plt.grid(True)\n",
    "    plt.show()\n"
   ]
  },
  {
   "cell_type": "code",
   "execution_count": 14,
   "id": "39ef998a",
   "metadata": {},
   "outputs": [
    {
     "name": "stdout",
     "output_type": "stream",
     "text": [
      "Model 1 without decay method\n",
      "Mean Absolute Error (MAE): 4530.195673293092\n",
      "Mean Squared Error (MSE): 43026753.78030937\n"
     ]
    },
    {
     "data": {
      "image/png": "[encoded data removed]",
      "text/plain": [
       "<Figure size 1000x600 with 1 Axes>"
      ]
     },
     "metadata": {},
     "output_type": "display_data"
    }
   ],
   "source": [
    "predictions_test1 = predict(W1)\n",
    "\n",
    "a,b = error_calculation(predictions_test1,y_test)\n",
    "\n",
    "print(\"Model 1 without decay method\")\n",
    "print(\"Mean Absolute Error (MAE):\", a)\n",
    "print(\"Mean Squared Error (MSE):\", b)\n",
    "\n",
    "\n",
    "# Plot histogram of error distribution\n",
    "histogramPlot(predictions_test1,y_test)"
   ]
  },
  {
   "cell_type": "code",
   "execution_count": 15,
   "id": "3447450d",
   "metadata": {},
   "outputs": [
    {
     "name": "stdout",
     "output_type": "stream",
     "text": [
      "Model 1 without decay method\n",
      "Mean Absolute Error (MAE): 8494.007323722097\n",
      "Mean Squared Error (MSE): 176915510.51186243\n"
     ]
    },
    {
     "data": {
      "image/png": "[encoded data removed]",
      "text/plain": [
       "<Figure size 1000x600 with 1 Axes>"
      ]
     },
     "metadata": {},
     "output_type": "display_data"
    }
   ],
   "source": [
    "# Predict expenses for the testing dataset with decay method model (Model 2)\n",
    "predictions_test2 = predict(W2)\n",
    "\n",
    "x,y = error_calculation(predictions_test2,y_test)\n",
    "\n",
    "print(\"Model 1 without decay method\")\n",
    "print(\"Mean Absolute Error (MAE):\", x)\n",
    "print(\"Mean Squared Error (MSE):\", y)\n",
    "\n",
    "\n",
    "# Plot histogram of error distribution\n",
    "histogramPlot(predictions_test2,y_test)\n"
   ]
  },
  {
   "cell_type": "markdown",
   "id": "45bb2b96",
   "metadata": {},
   "source": [
    "# 5.\tLearning Rate Analysis:\n",
    "•\tDemonstrate the effect of varying the learning rate on the convergence of the gradient descent algorithm.\n"
   ]
  },
  {
   "cell_type": "code",
   "execution_count": 16,
   "id": "5160efbd",
   "metadata": {},
   "outputs": [
    {
     "name": "stdout",
     "output_type": "stream",
     "text": [
      "Coefficients and intercept of the model with learning rate of 0.05 is:\n",
      "[[-3076.4722638241956]\n",
      " [12527.905986183785]\n",
      " [236.7353119236315]\n",
      " [11296.536194572143]\n",
      " [3426.658518883289]\n",
      " [23897.545059791693]\n",
      " [-272.9678703086007]\n",
      " [-1242.8748577203612]\n",
      " [-1109.2227581405757]]\n",
      "Time taken for computation is:  45.44641828536987\n",
      "Model 3 without decay method\n",
      "Mean Absolute Error (MAE): 4556.46110222282\n",
      "Mean Squared Error (MSE): 42656110.33148337\n"
     ]
    }
   ],
   "source": [
    "#Model 3 with learning rate of 0.05\n",
    "\n",
    "# Model 3\n",
    "\n",
    "X_b = np.c_[np.ones((X_train.shape[0], 1)), X_train]\n",
    "m = X_train.shape[0]  # number of data points\n",
    "n = X_train.shape[0]   # number of features\n",
    "\n",
    "\n",
    "alpha = 0.05                  # Learning rate\n",
    "n_iterations = 10000  # Number of iterations\n",
    "W = np.random.randn(X_train.shape[1]+1,1)  # Weight matrix\n",
    "\n",
    "#•\tShow the coefficients and intercept of the model.\n",
    "\n",
    "W3,loss,comp_time3 = gradient_decent(X_b,W,n_iterations,alpha)\n",
    "\n",
    "print(\"Coefficients and intercept of the model with learning rate of 0.05 is:\")\n",
    "print(W3)\n",
    "\n",
    "print(\"Time taken for computation is: \",comp_time3)\n",
    "\n",
    "\n",
    "\n",
    "#Model Evaluation\n",
    "\n",
    "predictions = predict(W3)\n",
    "\n",
    "a,b = error_calculation(predictions,y_test)\n",
    "\n",
    "print(\"Model 3 without decay method\")\n",
    "print(\"Mean Absolute Error (MAE):\", a)\n",
    "print(\"Mean Squared Error (MSE):\", b)\n",
    "\n"
   ]
  },
  {
   "cell_type": "code",
   "execution_count": 17,
   "id": "18ff96f3",
   "metadata": {},
   "outputs": [
    {
     "name": "stdout",
     "output_type": "stream",
     "text": [
      "Coefficients and intercept of the model 4 with learning rate of 0.1 is:\n",
      "[[-4681.919367889514]\n",
      " [12525.920563992942]\n",
      " [241.9741464795871]\n",
      " [11289.117861698292]\n",
      " [6708.744583280614]\n",
      " [23891.48170486138]\n",
      " [-272.4737725259771]\n",
      " [-1238.4121042759268]\n",
      " [-1108.5956420666557]]\n",
      "Time taken for computation is:  46.00970983505249\n",
      "Model 3 without decay method\n",
      "Mean Absolute Error (MAE): 4560.614057266782\n",
      "Mean Squared Error (MSE): 42677981.05944344\n"
     ]
    }
   ],
   "source": [
    "#Model 4 with leanring rate of 0.1\n",
    "\n",
    "# Model 4\n",
    "\n",
    "X_b = np.c_[np.ones((X_train.shape[0], 1)), X_train]\n",
    "m = X_train.shape[0]  # number of data points\n",
    "n = X_train.shape[0]   # number of features\n",
    "\n",
    "\n",
    "alpha = 0.1                 # Learning rate\n",
    "n_iterations = 10000  # Number of iterations\n",
    "W = np.random.randn(X_train.shape[1]+1,1)  # Weight matrix\n",
    "\n",
    "#•\tShow the coefficients and intercept of the model.\n",
    "\n",
    "W4,loss,comp_time4 = gradient_decent(X_b,W,n_iterations,alpha)\n",
    "\n",
    "print(\"Coefficients and intercept of the model 4 with learning rate of 0.1 is:\")\n",
    "print(W4)\n",
    "\n",
    "print(\"Time taken for computation is: \",comp_time4)\n",
    "\n",
    "\n",
    "\n",
    "#Model Evaluation\n",
    "\n",
    "predictions = predict(W4)\n",
    "\n",
    "a,b = error_calculation(predictions,y_test)\n",
    "\n",
    "print(\"Model 3 without decay method\")\n",
    "print(\"Mean Absolute Error (MAE):\", a)\n",
    "print(\"Mean Squared Error (MSE):\", b)\n"
   ]
  },
  {
   "cell_type": "code",
   "execution_count": 18,
   "id": "57c9b915",
   "metadata": {},
   "outputs": [
    {
     "name": "stdout",
     "output_type": "stream",
     "text": [
      "Coefficients and intercept of the model with learning rate of 0.5 is:\n",
      "[[-10974.76327261381]\n",
      " [12518.153815213682]\n",
      " [262.49310886080207]\n",
      " [11259.336813677153]\n",
      " [19574.006095852303]\n",
      " [23867.700116336622]\n",
      " [-270.5371395834187]\n",
      " [-1220.8380943219533]\n",
      " [-1106.1081996049643]]\n",
      "Time taken for computation is:  45.343332290649414\n",
      "Model 5 without decay method\n",
      "Mean Absolute Error (MAE): 4556.46110222282\n",
      "Mean Squared Error (MSE): 42656110.33148337\n"
     ]
    }
   ],
   "source": [
    "#Model 5 with learning rate of 0.05\n",
    "\n",
    "# Model 5\n",
    "\n",
    "X_b = np.c_[np.ones((X_train.shape[0], 1)), X_train]\n",
    "m = X_train.shape[0]  # number of data points\n",
    "n = X_train.shape[0]   # number of features\n",
    "\n",
    "\n",
    "alpha = 0.5                 # Learning rate\n",
    "n_iterations = 10000  # Number of iterations\n",
    "W = np.random.randn(X_train.shape[1]+1,1)  # Weight matrix\n",
    "\n",
    "#•\tShow the coefficients and intercept of the model.\n",
    "\n",
    "W5,loss,comp_time5 = gradient_decent(X_b,W,n_iterations,alpha)\n",
    "\n",
    "print(\"Coefficients and intercept of the model with learning rate of 0.5 is:\")\n",
    "print(W5)\n",
    "\n",
    "print(\"Time taken for computation is: \",comp_time5)\n",
    "\n",
    "\n",
    "\n",
    "#Model Evaluation\n",
    "\n",
    "predictions = predict(W3)\n",
    "\n",
    "a,b = error_calculation(predictions,y_test)\n",
    "\n",
    "print(\"Model 5 without decay method\")\n",
    "print(\"Mean Absolute Error (MAE):\", a)\n",
    "print(\"Mean Squared Error (MSE):\", b)\n"
   ]
  },
  {
   "cell_type": "raw",
   "id": "46083b1b",
   "metadata": {},
   "source": [
    "# Learning rate Analysis \n",
    "\n",
    "For the insurance.csv dataset the change in the learning rates for the model has less impact on the Mean absolute error and the Mean Squared error as the dataset is small in size.But still we can slight change in the values of the errors and also the computational time. \n",
    "\n",
    "The compuatation time has major change with the change in the learning rates. We can see that the compuatation time has increased with the increase in the learning rate.It means that the model is taking more time to converge as we increase the learning rate of the model.The model with the learning rate of 0.01 has taken only 37 seconds, whereas the model with leanring rates of 0.1 , 0.5 took almost 46 seconds to converge.\n",
    "\n",
    "Hence we can conclude that taking larger steps making the cost function to diverge from the optimal point.Hence for this dataset the learning of 0.01 is doing good with respective to computation time, MAE and MSE\n"
   ]
  },
  {
   "cell_type": "markdown",
   "id": "aeb12015",
   "metadata": {},
   "source": [
    "# 6.\tScikit-learn Implementation:\n",
    "•\tRepeat the regression using the linear_model.LinearRegression class from scikit-learn.\n",
    "•\tCompute MAE and MSE for comparison.\n"
   ]
  },
  {
   "cell_type": "code",
   "execution_count": 20,
   "id": "5c7d1801",
   "metadata": {},
   "outputs": [
    {
     "name": "stdout",
     "output_type": "stream",
     "text": [
      "Coefficients and intercept of the model with Linear Regression class from sckit learn library:\n",
      "Coefficients: [[12515.64788316   269.11352718 11249.72799369 23724.96712688\n",
      "  23860.02701561  -269.91228731 -1215.16786121 -1105.30562927]]\n",
      "Intercept: [-13005.14172958]\n",
      "Time taken for computation is:  0.011942863464355469\n"
     ]
    }
   ],
   "source": [
    "from sklearn.linear_model import LinearRegression\n",
    "from sklearn.metrics import mean_absolute_error, mean_squared_error\n",
    "\n",
    "\n",
    "\n",
    "# Create an instance of Linear Regression model\n",
    "model = LinearRegression()\n",
    "\n",
    "start_time3 = time.time()\n",
    "# Train the model\n",
    "model.fit(X_train, y_train)\n",
    "\n",
    "end_time3 = time.time()\n",
    "\n",
    "comp_time3 =end_time3 - start_time3\n",
    "\n",
    "print(\"Coefficients and intercept of the model with Linear Regression class from sckit learn library:\")\n",
    "\n",
    "# Print coefficients and intercept\n",
    "print(\"Coefficients:\", model.coef_)\n",
    "print(\"Intercept:\", model.intercept_)\n",
    "\n",
    "print(\"Time taken for computation is: \",comp_time3)\n",
    "\n"
   ]
  },
  {
   "cell_type": "code",
   "execution_count": 21,
   "id": "c422bb60",
   "metadata": {},
   "outputs": [
    {
     "name": "stdout",
     "output_type": "stream",
     "text": [
      "Mean Absolute Error (MAE): 4587.184232769768\n",
      "Mean Squared Error (MSE): 43164058.668889396\n"
     ]
    },
    {
     "data": {
      "image/png": "[encoded data removed]",
      "text/plain": [
       "<Figure size 1000x600 with 1 Axes>"
      ]
     },
     "metadata": {},
     "output_type": "display_data"
    }
   ],
   "source": [
    "\n",
    "# Predict expenses for the testing dataset\n",
    "predictions_test = model.predict(X_test)\n",
    "\n",
    "# Compute Mean Absolute Error (MAE) and Mean Squared Error (MSE)\n",
    "MAE = mean_absolute_error(y_test, predictions_test)\n",
    "MSE = mean_squared_error(y_test, predictions_test)\n",
    "\n",
    "print(\"Mean Absolute Error (MAE):\", MAE)\n",
    "print(\"Mean Squared Error (MSE):\", MSE)\n",
    "\n",
    "# Plot histogram of error distribution\n",
    "error = predictions_test - y_test\n",
    "plt.figure(figsize=(10, 6))\n",
    "plt.hist(error, bins=50, edgecolor='k')\n",
    "plt.xlabel('Error')\n",
    "plt.ylabel('Frequency')\n",
    "plt.title('Error Distribution')\n",
    "plt.grid(True)\n",
    "plt.show()\n",
    "\n"
   ]
  },
  {
   "cell_type": "markdown",
   "id": "43279348",
   "metadata": {},
   "source": [
    "# 7.\tNormal Equation Implementation:\n",
    "•\tUse the normal equation method to find the regression line directly.\n",
    "•\tCompare the MAE and MSE with previous methods\n"
   ]
  },
  {
   "cell_type": "code",
   "execution_count": 25,
   "id": "46cb9d6a",
   "metadata": {},
   "outputs": [
    {
     "name": "stdout",
     "output_type": "stream",
     "text": [
      "Intercept: [-13005.14172959]\n",
      "Coefficients: [[12515.64788316]\n",
      " [  269.11352718]\n",
      " [11249.72799369]\n",
      " [23724.96712689]\n",
      " [23860.02701561]\n",
      " [ -269.91228731]\n",
      " [-1215.16786121]\n",
      " [-1105.30562927]]\n",
      "Computational time with Normal equation implementation is:  0.0022149085998535156\n"
     ]
    }
   ],
   "source": [
    "# Add bias term to feature matrix X_train\n",
    "X_b = np.c_[np.ones((X_train.shape[0], 1)), X_train].astype(np.float64)\n",
    "y_train = y_train.astype(np.float64)\n",
    "\n",
    "st_time = time.time()\n",
    "\n",
    "# Compute the parameters using the normal equation\n",
    "W_normal = np.linalg.inv(X_b.T.dot(X_b)).dot(X_b.T).dot(y_train)\n",
    "\n",
    "ed_time = time.time()\n",
    "\n",
    "comp_time_normal = ed_time - st_time\n",
    "\n",
    "\n",
    "# Extract the intercept and coefficients\n",
    "intercept = W_normal[0]\n",
    "coefficients = W_normal[1:]\n",
    "\n",
    "print(\"Intercept:\", intercept)\n",
    "print(\"Coefficients:\", coefficients)\n",
    "\n",
    "print(\"Computational time with Normal equation implementation is: \", comp_time_normal)\n"
   ]
  },
  {
   "cell_type": "code",
   "execution_count": 26,
   "id": "88f73ca8",
   "metadata": {},
   "outputs": [
    {
     "name": "stdout",
     "output_type": "stream",
     "text": [
      "Mean Absolute Error (MAE): 4587.184232769662\n",
      "Mean Squared Error (MSE): 43164058.66889046\n"
     ]
    },
    {
     "data": {
      "image/png": "[encoded data removed]",
      "text/plain": [
       "<Figure size 1000x600 with 1 Axes>"
      ]
     },
     "metadata": {},
     "output_type": "display_data"
    }
   ],
   "source": [
    "# Predict expenses for the testing dataset\n",
    "X_test_b = np.c_[np.ones((X_test.shape[0], 1)), X_test]\n",
    "predictions_test = X_test_b.dot(W_normal)\n",
    "\n",
    "\n",
    "# Compute Mean Absolute Error (MAE) and Mean Squared Error (MSE)\n",
    "MAE = np.mean(np.abs(predictions_test - y_test))\n",
    "MSE = np.mean((predictions_test - y_test)**2)\n",
    "\n",
    "\n",
    "print(\"Mean Absolute Error (MAE):\", MAE)\n",
    "print(\"Mean Squared Error (MSE):\", MSE)\n",
    "\n",
    "\n",
    "# Plot histogram of error distribution\n",
    "error = predictions_test - y_test\n",
    "plt.figure(figsize=(10, 6))\n",
    "plt.hist(error, bins=50, edgecolor='k')\n",
    "plt.xlabel('Error')\n",
    "plt.ylabel('Frequency')\n",
    "plt.title('Error Distribution')\n",
    "plt.grid(True)\n",
    "plt.show()"
   ]
  },
  {
   "cell_type": "markdown",
   "id": "fa13ad75",
   "metadata": {},
   "source": [
    "# 8.\tComparison:\n",
    "•\tCompare the three solutions in terms of MAE, MSE, and computational efficiency.\n",
    "\n",
    "Model 1:\n",
    "\n",
    "Time taken for computation is:  37.96727252006531\n",
    "Model 1 without decay method\n",
    "Mean Absolute Error (MAE): 4530.195673293092\n",
    "Mean Squared Error (MSE): 43026753.78030937\n",
    "\n",
    "Model 2: Using Sckit learn library\n",
    "\n",
    "Time taken for computation is:  0.011942863464355469\n",
    "\n",
    "Mean Absolute Error (MAE): 4587.184232769768\n",
    "Mean Squared Error (MSE): 43164058.668889396\n",
    "\n",
    "Model 3: Using the Normal Equation method \n",
    "\n",
    "Mean Absolute Error (MAE): 4587.184232769662\n",
    "Mean Squared Error (MSE): 43164058.66889046\n",
    "Computational time with Normal equation implementation is:  0.0022149085998535156\n",
    "\n",
    "From the three models, we can observe that the MAE, MSE are less for the Model 1 whereas the computation time is very high which is around 37 seconds, but this is not much efficient as compared to the other two models as it requires more time for calculation and also the error is slight less as compared other methods.\n",
    "\n",
    "The model implemented with the normal equation took very less time compared toother two methods and the MSE and MAE obatained by it are almost equal to the model 2.\n",
    "\n",
    "So for the small datasets which require less compuataions we can use both the Normal equation method and Sckit learn library method which takes less time for computation and gives better accuracy.We can also use the model 1 approach if we high speed computation machines which may aslo provide better accracy on validation \n",
    "\n"
   ]
  }
 ],
 "metadata": {
  "kernelspec": {
   "display_name": "Python 3 (ipykernel)",
   "language": "python",
   "name": "python3"
  },
  "language_info": {
   "codemirror_mode": {
    "name": "ipython",
    "version": 3
   },
   "file_extension": ".py",
   "mimetype": "text/x-python",
   "name": "python",
   "nbconvert_exporter": "python",
   "pygments_lexer": "ipython3",
   "version": "3.10.13"
  },
  "varInspector": {
   "cols": {
    "lenName": 16,
    "lenType": 16,
    "lenVar": 40
   },
   "kernels_config": {
    "python": {
     "delete_cmd_postfix": "",
     "delete_cmd_prefix": "del ",
     "library": "var_list.py",
     "varRefreshCmd": "print(var_dic_list())"
    },
    "r": {
     "delete_cmd_postfix": ") ",
     "delete_cmd_prefix": "rm(",
     "library": "var_list.r",
     "varRefreshCmd": "cat(var_dic_list()) "
    }
   },
   "types_to_exclude": [
    "module",
    "function",
    "builtin_function_or_method",
    "instance",
    "_Feature"
   ],
   "window_display": false
  }
 },
 "nbformat": 4,
 "nbformat_minor": 5
}
