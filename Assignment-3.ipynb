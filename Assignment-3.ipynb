{
 "cells": [
  {
   "cell_type": "code",
   "execution_count": 1,
   "id": "ce38fc2d",
   "metadata": {
    "id": "ce38fc2d"
   },
   "outputs": [],
   "source": [
    "# Importing required libraries\n",
    "\n",
    "import numpy as np\n",
    "import pandas as pd\n",
    "import matplotlib.pyplot as plt\n",
    "from sklearn.preprocessing import LabelEncoder\n",
    "from sklearn.metrics import classification_report, confusion_matrix\n",
    "from sklearn.neural_network import MLPClassifier\n",
    "from sklearn.model_selection import train_test_split\n",
    "from sklearn.metrics import accuracy_score\n",
    "from sklearn.preprocessing import StandardScaler\n",
    "from sklearn.preprocessing import OneHotEncoder\n",
    "import warnings\n",
    "warnings.filterwarnings('ignore')\n"
   ]
  },
  {
   "cell_type": "markdown",
   "id": "5006ed0f",
   "metadata": {
    "id": "5006ed0f"
   },
   "source": [
    "# 1 Data Preprocessing:\n",
    "• Load the dataset and perform initial exploratory data analysis.\n",
    "• Handle null values appropriately (e.g., using imputation or removal).\n",
    "• Convert categorical variables to a suitable numerical format.\n",
    "• Encode the target variable 'Segmentation' for the classification task."
   ]
  },
  {
   "cell_type": "code",
   "execution_count": 2,
   "id": "5086dd34",
   "metadata": {
    "colab": {
     "base_uri": "https://localhost:8080/",
     "height": 333
    },
    "id": "5086dd34",
    "outputId": "11bcab95-249d-4daf-e670-2affe6df2b16"
   },
   "outputs": [],
   "source": [
    "#Loading train data into dataframe\n",
    "\n",
    "train = pd.read_csv('train.csv')"
   ]
  },
  {
   "cell_type": "code",
   "execution_count": 3,
   "id": "11f1ef4e",
   "metadata": {
    "id": "11f1ef4e"
   },
   "outputs": [],
   "source": [
    "#Loading test data into dataframe\n",
    "\n",
    "test = pd.read_csv('test.csv')"
   ]
  },
  {
   "cell_type": "code",
   "execution_count": 4,
   "id": "b48a1fd7",
   "metadata": {
    "id": "b48a1fd7"
   },
   "outputs": [
    {
     "name": "stdout",
     "output_type": "stream",
     "text": [
      "Shape of train dataframe (8068, 11)\n",
      "Shape of test dataframe (2627, 10)\n"
     ]
    }
   ],
   "source": [
    "#Printing shapes of test and train dataframes\n",
    "\n",
    "print(\"Shape of train dataframe\", train.shape)\n",
    "\n",
    "print(\"Shape of test dataframe\", test.shape)"
   ]
  },
  {
   "cell_type": "code",
   "execution_count": 5,
   "id": "09f174f2",
   "metadata": {
    "id": "09f174f2"
   },
   "outputs": [
    {
     "name": "stdout",
     "output_type": "stream",
     "text": [
      "Trainig data\n",
      "       ID  Gender Ever_Married  Age Graduated     Profession  Work_Experience  \\\n",
      "0  462809    Male           No   22        No     Healthcare              1.0   \n",
      "1  462643  Female          Yes   38       Yes       Engineer              NaN   \n",
      "2  466315  Female          Yes   67       Yes       Engineer              1.0   \n",
      "3  461735    Male          Yes   67       Yes         Lawyer              0.0   \n",
      "4  462669  Female          Yes   40       Yes  Entertainment              NaN   \n",
      "5  461319    Male          Yes   56        No         Artist              0.0   \n",
      "6  460156    Male           No   32       Yes     Healthcare              1.0   \n",
      "7  464347  Female           No   33       Yes     Healthcare              1.0   \n",
      "8  465015  Female          Yes   61       Yes       Engineer              0.0   \n",
      "9  465176  Female          Yes   55       Yes         Artist              1.0   \n",
      "\n",
      "  Spending_Score  Family_Size  Var_1 Segmentation  \n",
      "0            Low          4.0  Cat_4            D  \n",
      "1        Average          3.0  Cat_4            A  \n",
      "2            Low          1.0  Cat_6            B  \n",
      "3           High          2.0  Cat_6            B  \n",
      "4           High          6.0  Cat_6            A  \n",
      "5        Average          2.0  Cat_6            C  \n",
      "6            Low          3.0  Cat_6            C  \n",
      "7            Low          3.0  Cat_6            D  \n",
      "8            Low          3.0  Cat_7            D  \n",
      "9        Average          4.0  Cat_6            C  \n",
      "Testing data\n",
      "       ID  Gender Ever_Married  Age Graduated  Profession  Work_Experience  \\\n",
      "0  458989  Female          Yes   36       Yes    Engineer              0.0   \n",
      "1  458994    Male          Yes   37       Yes  Healthcare              8.0   \n",
      "2  458996  Female          Yes   69        No         NaN              0.0   \n",
      "3  459000    Male          Yes   59        No   Executive             11.0   \n",
      "4  459001  Female           No   19        No   Marketing              NaN   \n",
      "5  459003    Male          Yes   47       Yes      Doctor              0.0   \n",
      "6  459005    Male          Yes   61       Yes      Doctor              5.0   \n",
      "7  459008  Female          Yes   47       Yes      Artist              1.0   \n",
      "8  459013    Male          Yes   50       Yes      Artist              2.0   \n",
      "9  459014    Male           No   19        No  Healthcare              0.0   \n",
      "\n",
      "  Spending_Score  Family_Size  Var_1  \n",
      "0            Low          1.0  Cat_6  \n",
      "1        Average          4.0  Cat_6  \n",
      "2            Low          1.0  Cat_6  \n",
      "3           High          2.0  Cat_6  \n",
      "4            Low          4.0  Cat_6  \n",
      "5           High          5.0  Cat_4  \n",
      "6            Low          3.0  Cat_6  \n",
      "7        Average          3.0  Cat_6  \n",
      "8        Average          4.0  Cat_6  \n",
      "9            Low          4.0  Cat_6  \n"
     ]
    }
   ],
   "source": [
    "#Printing few rows of test and train data\n",
    "\n",
    "print('Trainig data')\n",
    "print(train.head(10))\n",
    "\n",
    "print('Testing data')\n",
    "print(test.head(10))"
   ]
  },
  {
   "cell_type": "code",
   "execution_count": 6,
   "id": "c1ae7f33",
   "metadata": {
    "id": "c1ae7f33",
    "outputId": "be9792e5-b8ab-46b4-ba0e-3c4ec291338e"
   },
   "outputs": [
    {
     "name": "stdout",
     "output_type": "stream",
     "text": [
      "<class 'pandas.core.frame.DataFrame'>\n",
      "RangeIndex: 8068 entries, 0 to 8067\n",
      "Data columns (total 11 columns):\n",
      " #   Column           Non-Null Count  Dtype  \n",
      "---  ------           --------------  -----  \n",
      " 0   ID               8068 non-null   int64  \n",
      " 1   Gender           8068 non-null   object \n",
      " 2   Ever_Married     7928 non-null   object \n",
      " 3   Age              8068 non-null   int64  \n",
      " 4   Graduated        7990 non-null   object \n",
      " 5   Profession       7944 non-null   object \n",
      " 6   Work_Experience  7239 non-null   float64\n",
      " 7   Spending_Score   8068 non-null   object \n",
      " 8   Family_Size      7733 non-null   float64\n",
      " 9   Var_1            7992 non-null   object \n",
      " 10  Segmentation     8068 non-null   object \n",
      "dtypes: float64(2), int64(2), object(7)\n",
      "memory usage: 693.5+ KB\n",
      "None\n",
      "<class 'pandas.core.frame.DataFrame'>\n",
      "RangeIndex: 2627 entries, 0 to 2626\n",
      "Data columns (total 10 columns):\n",
      " #   Column           Non-Null Count  Dtype  \n",
      "---  ------           --------------  -----  \n",
      " 0   ID               2627 non-null   int64  \n",
      " 1   Gender           2627 non-null   object \n",
      " 2   Ever_Married     2577 non-null   object \n",
      " 3   Age              2627 non-null   int64  \n",
      " 4   Graduated        2603 non-null   object \n",
      " 5   Profession       2589 non-null   object \n",
      " 6   Work_Experience  2358 non-null   float64\n",
      " 7   Spending_Score   2627 non-null   object \n",
      " 8   Family_Size      2514 non-null   float64\n",
      " 9   Var_1            2595 non-null   object \n",
      "dtypes: float64(2), int64(2), object(6)\n",
      "memory usage: 205.4+ KB\n",
      "None\n"
     ]
    }
   ],
   "source": [
    "# Display information about the train dataframe\n",
    "print(train.info())\n",
    "\n",
    "# Display information about the test dataframe\n",
    "print(test.info())"
   ]
  },
  {
   "cell_type": "code",
   "execution_count": 7,
   "id": "52c523ec",
   "metadata": {
    "id": "52c523ec",
    "outputId": "2972cfb0-ba32-46bf-83b0-3770c684fb7e"
   },
   "outputs": [
    {
     "name": "stdout",
     "output_type": "stream",
     "text": [
      "                  ID          Age  Work_Experience  Family_Size\n",
      "count    8068.000000  8068.000000      7239.000000  7733.000000\n",
      "mean   463479.214551    43.466906         2.641663     2.850123\n",
      "std      2595.381232    16.711696         3.406763     1.531413\n",
      "min    458982.000000    18.000000         0.000000     1.000000\n",
      "25%    461240.750000    30.000000         0.000000     2.000000\n",
      "50%    463472.500000    40.000000         1.000000     3.000000\n",
      "75%    465744.250000    53.000000         4.000000     4.000000\n",
      "max    467974.000000    89.000000        14.000000     9.000000\n",
      "                  ID          Age  Work_Experience  Family_Size\n",
      "count    2627.000000  2627.000000      2358.000000  2514.000000\n",
      "mean   463433.918919    43.649791         2.552587     2.825378\n",
      "std      2618.245698    16.967015         3.341094     1.551906\n",
      "min    458989.000000    18.000000         0.000000     1.000000\n",
      "25%    461162.500000    30.000000         0.000000     2.000000\n",
      "50%    463379.000000    41.000000         1.000000     2.000000\n",
      "75%    465696.000000    53.000000         4.000000     4.000000\n",
      "max    467968.000000    89.000000        14.000000     9.000000\n"
     ]
    }
   ],
   "source": [
    "# Display basic statistics of numerical variables in train dataframe\n",
    "print(train.describe())\n",
    "\n",
    "# Display basic statistics of numerical variables in train dataframe\n",
    "print(test.describe())"
   ]
  },
  {
   "cell_type": "code",
   "execution_count": 8,
   "id": "c54cb031",
   "metadata": {
    "id": "c54cb031"
   },
   "outputs": [],
   "source": [
    "# Dropping column ID from both the test and train dataframe\n",
    "\n",
    "train.drop('ID', axis=1, inplace=True)\n",
    "\n",
    "test.drop('ID', axis=1, inplace=True)\n"
   ]
  },
  {
   "cell_type": "code",
   "execution_count": 9,
   "id": "2036acd3",
   "metadata": {
    "id": "2036acd3",
    "outputId": "c4a2e678-3942-4516-cd14-ab8999bfbf70"
   },
   "outputs": [
    {
     "name": "stdout",
     "output_type": "stream",
     "text": [
      "Missing values in training set\n",
      "Gender               0\n",
      "Ever_Married       140\n",
      "Age                  0\n",
      "Graduated           78\n",
      "Profession         124\n",
      "Work_Experience    829\n",
      "Spending_Score       0\n",
      "Family_Size        335\n",
      "Var_1               76\n",
      "Segmentation         0\n",
      "dtype: int64\n",
      "Missing values in testing set\n",
      "Gender               0\n",
      "Ever_Married        50\n",
      "Age                  0\n",
      "Graduated           24\n",
      "Profession          38\n",
      "Work_Experience    269\n",
      "Spending_Score       0\n",
      "Family_Size        113\n",
      "Var_1               32\n",
      "dtype: int64\n"
     ]
    }
   ],
   "source": [
    "# Handle null values\n",
    "# Check for missing values\n",
    "\n",
    "train_missing_data = train.isnull().sum()\n",
    "\n",
    "print(\"Missing values in training set\")\n",
    "print(train_missing_data)\n",
    "\n",
    "test_missing_data = test.isnull().sum()\n",
    "\n",
    "print(\"Missing values in testing set\")\n",
    "print(test_missing_data)"
   ]
  },
  {
   "cell_type": "code",
   "execution_count": 10,
   "id": "bf9da7ac",
   "metadata": {
    "id": "bf9da7ac",
    "outputId": "e5bb576a-1074-4c07-bcec-1919cc4129f0"
   },
   "outputs": [
    {
     "name": "stdout",
     "output_type": "stream",
     "text": [
      "Percentage of data missing in Ever_Married column is:  1.7352503718393655\n",
      "Percentage of data missing in Graduated column is:  0.9667823500247893\n",
      "Percentage of data missing in Profession column is:  1.5369360436291521\n",
      "Percentage of data missing in Work_Experience column is:  10.27516113039167\n",
      "Percentage of data missing in Family_Size column is:  4.152206246901339\n",
      "Percentage of data missing in Var_1 column is:  0.9419930589985127\n"
     ]
    }
   ],
   "source": [
    "#Calculating the percentage of missing data for each column which has missing values in Traning dataframe\n",
    "\n",
    "# Ever Married missing percent\n",
    "EverMarried_missing_percent =(train_missing_data['Ever_Married']/len(train))*100\n",
    "print('Percentage of data missing in Ever_Married column is: ', EverMarried_missing_percent)\n",
    "\n",
    "# Graduated missing percent\n",
    "Graduated_missing_percent =(train_missing_data['Graduated']/len(train))*100\n",
    "print('Percentage of data missing in Graduated column is: ', Graduated_missing_percent)\n",
    "\n",
    "# Profession missing percent\n",
    "Profession_missing_percent =(train_missing_data['Profession']/len(train))*100\n",
    "print('Percentage of data missing in Profession column is: ', Profession_missing_percent)\n",
    "\n",
    "# Work_Experience missing percent\n",
    "\n",
    "Work_Experience_missing_percent =(train_missing_data['Work_Experience']/len(train))*100\n",
    "print('Percentage of data missing in Work_Experience column is: ', Work_Experience_missing_percent)\n",
    "\n",
    "# Family_Size missing percent\n",
    "\n",
    "Family_Size_missing_percent = (train_missing_data['Family_Size']/len(train))*100\n",
    "print('Percentage of data missing in Family_Size column is: ', Family_Size_missing_percent)\n",
    "\n",
    "# Var1 missing percent\n",
    "\n",
    "Var_1_missing_percent = (train_missing_data['Var_1']/len(train))*100\n",
    "print('Percentage of data missing in Var_1 column is: ', Var_1_missing_percent)\n",
    "\n"
   ]
  },
  {
   "cell_type": "code",
   "execution_count": 11,
   "id": "25d641da",
   "metadata": {
    "id": "25d641da",
    "outputId": "674b3649-54ce-4195-9fa7-203163ccd09a"
   },
   "outputs": [
    {
     "name": "stdout",
     "output_type": "stream",
     "text": [
      "Percentage of data missing in Ever_Married column is:  1.9033117624666922\n",
      "Percentage of data missing in Graduated column is:  0.9135896459840122\n",
      "Percentage of data missing in Profession column is:  1.446516939474686\n",
      "Percentage of data missing in Work_Experience column is:  10.239817282070804\n",
      "Percentage of data missing in Family_Size column is:  4.301484583174724\n",
      "Percentage of data missing in Var_1 column is:  1.218119527978683\n"
     ]
    }
   ],
   "source": [
    "#Calculating the percentage of missing data for each column which has missing values in Testing dataframe\n",
    "\n",
    "# Ever Married missing percent\n",
    "EverMarried_missing_percent =(test_missing_data['Ever_Married']/len(test))*100\n",
    "print('Percentage of data missing in Ever_Married column is: ', EverMarried_missing_percent)\n",
    "\n",
    "# Graduated missing percent\n",
    "Graduated_missing_percent =(test_missing_data['Graduated']/len(test))*100\n",
    "print('Percentage of data missing in Graduated column is: ', Graduated_missing_percent)\n",
    "\n",
    "# Profession missing percent\n",
    "Profession_missing_percent =(test_missing_data['Profession']/len(test))*100\n",
    "print('Percentage of data missing in Profession column is: ', Profession_missing_percent)\n",
    "\n",
    "# Work_Experience missing percent\n",
    "\n",
    "Work_Experience_missing_percent =(test_missing_data['Work_Experience']/len(test))*100\n",
    "print('Percentage of data missing in Work_Experience column is: ', Work_Experience_missing_percent)\n",
    "\n",
    "# Family_Size missing percent\n",
    "\n",
    "Family_Size_missing_percent = (test_missing_data['Family_Size']/len(test))*100\n",
    "print('Percentage of data missing in Family_Size column is: ', Family_Size_missing_percent)\n",
    "\n",
    "# Var1 missing percent\n",
    "\n",
    "Var_1_missing_percent = (test_missing_data['Var_1']/len(test))*100\n",
    "print('Percentage of data missing in Var_1 column is: ', Var_1_missing_percent)\n",
    "\n"
   ]
  },
  {
   "cell_type": "code",
   "execution_count": 12,
   "id": "8b2e01d6",
   "metadata": {
    "id": "8b2e01d6"
   },
   "outputs": [],
   "source": [
    "# Impute missing values for numerical columns Work_Experience and Family size in Train and Test dataframes\n",
    "\n",
    "train['Work_Experience'].fillna(train['Work_Experience'].median(), inplace=True)\n",
    "\n",
    "train['Family_Size'].fillna(train['Family_Size'].median(), inplace=True)\n",
    "\n",
    "\n",
    "test['Work_Experience'].fillna(train['Work_Experience'].median(), inplace=True)\n",
    "\n",
    "test['Family_Size'].fillna(train['Family_Size'].median(), inplace=True)\n"
   ]
  },
  {
   "cell_type": "code",
   "execution_count": 13,
   "id": "2de8b7de",
   "metadata": {
    "id": "2de8b7de"
   },
   "outputs": [],
   "source": [
    "# Drop rows with missing values for categorical columns\n",
    "train.dropna(subset=['Ever_Married', 'Graduated','Var_1','Profession'], inplace=True)\n",
    "\n",
    "# Drop rows with missing values for categorical columns\n",
    "test.dropna(subset=['Ever_Married', 'Graduated','Var_1','Profession'], inplace=True)\n"
   ]
  },
  {
   "cell_type": "code",
   "execution_count": 14,
   "id": "319a3131",
   "metadata": {
    "id": "319a3131",
    "outputId": "b12251ef-fd39-4d41-f2d5-dd754c117588"
   },
   "outputs": [
    {
     "name": "stdout",
     "output_type": "stream",
     "text": [
      "Shape of train dataframe (7669, 10)\n",
      "Shape of test dataframe (2488, 9)\n"
     ]
    }
   ],
   "source": [
    "# Printing shapes of dataframes after handling missing or null values\n",
    "\n",
    "print(\"Shape of train dataframe\", train.shape)\n",
    "\n",
    "print(\"Shape of test dataframe\", test.shape)\n",
    "\n"
   ]
  },
  {
   "cell_type": "code",
   "execution_count": 15,
   "id": "8c6fc375",
   "metadata": {
    "id": "8c6fc375"
   },
   "outputs": [],
   "source": [
    "# Convert categorical variables\n",
    "# Convert categorical variables to numerical using label encoding\n",
    "cat_columns = ['Gender', 'Ever_Married', 'Graduated', 'Profession', 'Spending_Score', 'Var_1']\n",
    "for col in cat_columns:\n",
    "    le = LabelEncoder()\n",
    "    train[col] = le.fit_transform(train[col])\n",
    "\n",
    "# Test dataframe\n",
    "\n",
    "for col in cat_columns:\n",
    "    le = LabelEncoder()\n",
    "    test[col] = le.fit_transform(test[col])\n",
    "\n"
   ]
  },
  {
   "cell_type": "code",
   "execution_count": 16,
   "id": "f97f289e",
   "metadata": {
    "id": "f97f289e"
   },
   "outputs": [],
   "source": [
    "# Encode Target Variable\n",
    "# Encode 'Segmentation' using label encoding\n",
    "label_encoder = LabelEncoder()\n",
    "train['Segmentation'] = label_encoder.fit_transform(train['Segmentation'])"
   ]
  },
  {
   "cell_type": "code",
   "execution_count": 17,
   "id": "570ed578",
   "metadata": {
    "id": "570ed578",
    "outputId": "ae57863a-1fc0-4ebf-a57e-74e3a2210fe3"
   },
   "outputs": [
    {
     "data": {
      "text/html": [
       "<div>\n",
       "<style scoped>\n",
       "    .dataframe tbody tr th:only-of-type {\n",
       "        vertical-align: middle;\n",
       "    }\n",
       "\n",
       "    .dataframe tbody tr th {\n",
       "        vertical-align: top;\n",
       "    }\n",
       "\n",
       "    .dataframe thead th {\n",
       "        text-align: right;\n",
       "    }\n",
       "</style>\n",
       "<table border=\"1\" class=\"dataframe\">\n",
       "  <thead>\n",
       "    <tr style=\"text-align: right;\">\n",
       "      <th></th>\n",
       "      <th>Gender</th>\n",
       "      <th>Ever_Married</th>\n",
       "      <th>Age</th>\n",
       "      <th>Graduated</th>\n",
       "      <th>Profession</th>\n",
       "      <th>Work_Experience</th>\n",
       "      <th>Spending_Score</th>\n",
       "      <th>Family_Size</th>\n",
       "      <th>Var_1</th>\n",
       "      <th>Segmentation</th>\n",
       "    </tr>\n",
       "  </thead>\n",
       "  <tbody>\n",
       "    <tr>\n",
       "      <th>0</th>\n",
       "      <td>1</td>\n",
       "      <td>0</td>\n",
       "      <td>22</td>\n",
       "      <td>0</td>\n",
       "      <td>5</td>\n",
       "      <td>1.0</td>\n",
       "      <td>2</td>\n",
       "      <td>4.0</td>\n",
       "      <td>3</td>\n",
       "      <td>3</td>\n",
       "    </tr>\n",
       "    <tr>\n",
       "      <th>1</th>\n",
       "      <td>0</td>\n",
       "      <td>1</td>\n",
       "      <td>38</td>\n",
       "      <td>1</td>\n",
       "      <td>2</td>\n",
       "      <td>1.0</td>\n",
       "      <td>0</td>\n",
       "      <td>3.0</td>\n",
       "      <td>3</td>\n",
       "      <td>0</td>\n",
       "    </tr>\n",
       "    <tr>\n",
       "      <th>2</th>\n",
       "      <td>0</td>\n",
       "      <td>1</td>\n",
       "      <td>67</td>\n",
       "      <td>1</td>\n",
       "      <td>2</td>\n",
       "      <td>1.0</td>\n",
       "      <td>2</td>\n",
       "      <td>1.0</td>\n",
       "      <td>5</td>\n",
       "      <td>1</td>\n",
       "    </tr>\n",
       "    <tr>\n",
       "      <th>3</th>\n",
       "      <td>1</td>\n",
       "      <td>1</td>\n",
       "      <td>67</td>\n",
       "      <td>1</td>\n",
       "      <td>7</td>\n",
       "      <td>0.0</td>\n",
       "      <td>1</td>\n",
       "      <td>2.0</td>\n",
       "      <td>5</td>\n",
       "      <td>1</td>\n",
       "    </tr>\n",
       "    <tr>\n",
       "      <th>4</th>\n",
       "      <td>0</td>\n",
       "      <td>1</td>\n",
       "      <td>40</td>\n",
       "      <td>1</td>\n",
       "      <td>3</td>\n",
       "      <td>1.0</td>\n",
       "      <td>1</td>\n",
       "      <td>6.0</td>\n",
       "      <td>5</td>\n",
       "      <td>0</td>\n",
       "    </tr>\n",
       "    <tr>\n",
       "      <th>...</th>\n",
       "      <td>...</td>\n",
       "      <td>...</td>\n",
       "      <td>...</td>\n",
       "      <td>...</td>\n",
       "      <td>...</td>\n",
       "      <td>...</td>\n",
       "      <td>...</td>\n",
       "      <td>...</td>\n",
       "      <td>...</td>\n",
       "      <td>...</td>\n",
       "    </tr>\n",
       "    <tr>\n",
       "      <th>8062</th>\n",
       "      <td>1</td>\n",
       "      <td>1</td>\n",
       "      <td>41</td>\n",
       "      <td>1</td>\n",
       "      <td>0</td>\n",
       "      <td>0.0</td>\n",
       "      <td>1</td>\n",
       "      <td>5.0</td>\n",
       "      <td>5</td>\n",
       "      <td>1</td>\n",
       "    </tr>\n",
       "    <tr>\n",
       "      <th>8064</th>\n",
       "      <td>1</td>\n",
       "      <td>0</td>\n",
       "      <td>35</td>\n",
       "      <td>0</td>\n",
       "      <td>4</td>\n",
       "      <td>3.0</td>\n",
       "      <td>2</td>\n",
       "      <td>4.0</td>\n",
       "      <td>3</td>\n",
       "      <td>3</td>\n",
       "    </tr>\n",
       "    <tr>\n",
       "      <th>8065</th>\n",
       "      <td>0</td>\n",
       "      <td>0</td>\n",
       "      <td>33</td>\n",
       "      <td>1</td>\n",
       "      <td>5</td>\n",
       "      <td>1.0</td>\n",
       "      <td>2</td>\n",
       "      <td>1.0</td>\n",
       "      <td>5</td>\n",
       "      <td>3</td>\n",
       "    </tr>\n",
       "    <tr>\n",
       "      <th>8066</th>\n",
       "      <td>0</td>\n",
       "      <td>0</td>\n",
       "      <td>27</td>\n",
       "      <td>1</td>\n",
       "      <td>5</td>\n",
       "      <td>1.0</td>\n",
       "      <td>2</td>\n",
       "      <td>4.0</td>\n",
       "      <td>5</td>\n",
       "      <td>1</td>\n",
       "    </tr>\n",
       "    <tr>\n",
       "      <th>8067</th>\n",
       "      <td>1</td>\n",
       "      <td>1</td>\n",
       "      <td>37</td>\n",
       "      <td>1</td>\n",
       "      <td>4</td>\n",
       "      <td>0.0</td>\n",
       "      <td>0</td>\n",
       "      <td>3.0</td>\n",
       "      <td>3</td>\n",
       "      <td>1</td>\n",
       "    </tr>\n",
       "  </tbody>\n",
       "</table>\n",
       "<p>7669 rows × 10 columns</p>\n",
       "</div>"
      ],
      "text/plain": [
       "      Gender  Ever_Married  Age  Graduated  Profession  Work_Experience  \\\n",
       "0          1             0   22          0           5              1.0   \n",
       "1          0             1   38          1           2              1.0   \n",
       "2          0             1   67          1           2              1.0   \n",
       "3          1             1   67          1           7              0.0   \n",
       "4          0             1   40          1           3              1.0   \n",
       "...      ...           ...  ...        ...         ...              ...   \n",
       "8062       1             1   41          1           0              0.0   \n",
       "8064       1             0   35          0           4              3.0   \n",
       "8065       0             0   33          1           5              1.0   \n",
       "8066       0             0   27          1           5              1.0   \n",
       "8067       1             1   37          1           4              0.0   \n",
       "\n",
       "      Spending_Score  Family_Size  Var_1  Segmentation  \n",
       "0                  2          4.0      3             3  \n",
       "1                  0          3.0      3             0  \n",
       "2                  2          1.0      5             1  \n",
       "3                  1          2.0      5             1  \n",
       "4                  1          6.0      5             0  \n",
       "...              ...          ...    ...           ...  \n",
       "8062               1          5.0      5             1  \n",
       "8064               2          4.0      3             3  \n",
       "8065               2          1.0      5             3  \n",
       "8066               2          4.0      5             1  \n",
       "8067               0          3.0      3             1  \n",
       "\n",
       "[7669 rows x 10 columns]"
      ]
     },
     "execution_count": 17,
     "metadata": {},
     "output_type": "execute_result"
    }
   ],
   "source": [
    "train"
   ]
  },
  {
   "cell_type": "code",
   "execution_count": 18,
   "id": "a154a32e",
   "metadata": {
    "id": "a154a32e",
    "outputId": "702d2865-cd0e-497d-a523-dac2cd591137"
   },
   "outputs": [
    {
     "data": {
      "text/html": [
       "<div>\n",
       "<style scoped>\n",
       "    .dataframe tbody tr th:only-of-type {\n",
       "        vertical-align: middle;\n",
       "    }\n",
       "\n",
       "    .dataframe tbody tr th {\n",
       "        vertical-align: top;\n",
       "    }\n",
       "\n",
       "    .dataframe thead th {\n",
       "        text-align: right;\n",
       "    }\n",
       "</style>\n",
       "<table border=\"1\" class=\"dataframe\">\n",
       "  <thead>\n",
       "    <tr style=\"text-align: right;\">\n",
       "      <th></th>\n",
       "      <th>Gender</th>\n",
       "      <th>Ever_Married</th>\n",
       "      <th>Age</th>\n",
       "      <th>Graduated</th>\n",
       "      <th>Profession</th>\n",
       "      <th>Work_Experience</th>\n",
       "      <th>Spending_Score</th>\n",
       "      <th>Family_Size</th>\n",
       "      <th>Var_1</th>\n",
       "    </tr>\n",
       "  </thead>\n",
       "  <tbody>\n",
       "    <tr>\n",
       "      <th>0</th>\n",
       "      <td>0</td>\n",
       "      <td>1</td>\n",
       "      <td>36</td>\n",
       "      <td>1</td>\n",
       "      <td>2</td>\n",
       "      <td>0.0</td>\n",
       "      <td>2</td>\n",
       "      <td>1.0</td>\n",
       "      <td>5</td>\n",
       "    </tr>\n",
       "    <tr>\n",
       "      <th>1</th>\n",
       "      <td>1</td>\n",
       "      <td>1</td>\n",
       "      <td>37</td>\n",
       "      <td>1</td>\n",
       "      <td>5</td>\n",
       "      <td>8.0</td>\n",
       "      <td>0</td>\n",
       "      <td>4.0</td>\n",
       "      <td>5</td>\n",
       "    </tr>\n",
       "    <tr>\n",
       "      <th>3</th>\n",
       "      <td>1</td>\n",
       "      <td>1</td>\n",
       "      <td>59</td>\n",
       "      <td>0</td>\n",
       "      <td>4</td>\n",
       "      <td>11.0</td>\n",
       "      <td>1</td>\n",
       "      <td>2.0</td>\n",
       "      <td>5</td>\n",
       "    </tr>\n",
       "    <tr>\n",
       "      <th>4</th>\n",
       "      <td>0</td>\n",
       "      <td>0</td>\n",
       "      <td>19</td>\n",
       "      <td>0</td>\n",
       "      <td>8</td>\n",
       "      <td>1.0</td>\n",
       "      <td>2</td>\n",
       "      <td>4.0</td>\n",
       "      <td>5</td>\n",
       "    </tr>\n",
       "    <tr>\n",
       "      <th>5</th>\n",
       "      <td>1</td>\n",
       "      <td>1</td>\n",
       "      <td>47</td>\n",
       "      <td>1</td>\n",
       "      <td>1</td>\n",
       "      <td>0.0</td>\n",
       "      <td>1</td>\n",
       "      <td>5.0</td>\n",
       "      <td>3</td>\n",
       "    </tr>\n",
       "    <tr>\n",
       "      <th>...</th>\n",
       "      <td>...</td>\n",
       "      <td>...</td>\n",
       "      <td>...</td>\n",
       "      <td>...</td>\n",
       "      <td>...</td>\n",
       "      <td>...</td>\n",
       "      <td>...</td>\n",
       "      <td>...</td>\n",
       "      <td>...</td>\n",
       "    </tr>\n",
       "    <tr>\n",
       "      <th>2622</th>\n",
       "      <td>1</td>\n",
       "      <td>0</td>\n",
       "      <td>29</td>\n",
       "      <td>0</td>\n",
       "      <td>5</td>\n",
       "      <td>9.0</td>\n",
       "      <td>2</td>\n",
       "      <td>4.0</td>\n",
       "      <td>5</td>\n",
       "    </tr>\n",
       "    <tr>\n",
       "      <th>2623</th>\n",
       "      <td>0</td>\n",
       "      <td>0</td>\n",
       "      <td>35</td>\n",
       "      <td>1</td>\n",
       "      <td>1</td>\n",
       "      <td>1.0</td>\n",
       "      <td>2</td>\n",
       "      <td>1.0</td>\n",
       "      <td>5</td>\n",
       "    </tr>\n",
       "    <tr>\n",
       "      <th>2624</th>\n",
       "      <td>0</td>\n",
       "      <td>0</td>\n",
       "      <td>53</td>\n",
       "      <td>1</td>\n",
       "      <td>3</td>\n",
       "      <td>1.0</td>\n",
       "      <td>2</td>\n",
       "      <td>2.0</td>\n",
       "      <td>5</td>\n",
       "    </tr>\n",
       "    <tr>\n",
       "      <th>2625</th>\n",
       "      <td>1</td>\n",
       "      <td>1</td>\n",
       "      <td>47</td>\n",
       "      <td>1</td>\n",
       "      <td>4</td>\n",
       "      <td>1.0</td>\n",
       "      <td>1</td>\n",
       "      <td>5.0</td>\n",
       "      <td>3</td>\n",
       "    </tr>\n",
       "    <tr>\n",
       "      <th>2626</th>\n",
       "      <td>0</td>\n",
       "      <td>0</td>\n",
       "      <td>43</td>\n",
       "      <td>1</td>\n",
       "      <td>5</td>\n",
       "      <td>9.0</td>\n",
       "      <td>2</td>\n",
       "      <td>3.0</td>\n",
       "      <td>6</td>\n",
       "    </tr>\n",
       "  </tbody>\n",
       "</table>\n",
       "<p>2488 rows × 9 columns</p>\n",
       "</div>"
      ],
      "text/plain": [
       "      Gender  Ever_Married  Age  Graduated  Profession  Work_Experience  \\\n",
       "0          0             1   36          1           2              0.0   \n",
       "1          1             1   37          1           5              8.0   \n",
       "3          1             1   59          0           4             11.0   \n",
       "4          0             0   19          0           8              1.0   \n",
       "5          1             1   47          1           1              0.0   \n",
       "...      ...           ...  ...        ...         ...              ...   \n",
       "2622       1             0   29          0           5              9.0   \n",
       "2623       0             0   35          1           1              1.0   \n",
       "2624       0             0   53          1           3              1.0   \n",
       "2625       1             1   47          1           4              1.0   \n",
       "2626       0             0   43          1           5              9.0   \n",
       "\n",
       "      Spending_Score  Family_Size  Var_1  \n",
       "0                  2          1.0      5  \n",
       "1                  0          4.0      5  \n",
       "3                  1          2.0      5  \n",
       "4                  2          4.0      5  \n",
       "5                  1          5.0      3  \n",
       "...              ...          ...    ...  \n",
       "2622               2          4.0      5  \n",
       "2623               2          1.0      5  \n",
       "2624               2          2.0      5  \n",
       "2625               1          5.0      3  \n",
       "2626               2          3.0      6  \n",
       "\n",
       "[2488 rows x 9 columns]"
      ]
     },
     "execution_count": 18,
     "metadata": {},
     "output_type": "execute_result"
    }
   ],
   "source": [
    "test"
   ]
  },
  {
   "cell_type": "code",
   "execution_count": 19,
   "id": "cb06f1b1",
   "metadata": {
    "id": "cb06f1b1"
   },
   "outputs": [],
   "source": [
    "# Define features (X) and target variable (y)\n",
    "features = train.drop(columns=['Segmentation'])  # Features\n",
    "labels = train['Segmentation']  # Target variable\n",
    "\n",
    "labels=labels.values\n"
   ]
  },
  {
   "cell_type": "code",
   "execution_count": 20,
   "id": "b2793378",
   "metadata": {
    "id": "b2793378"
   },
   "outputs": [
    {
     "name": "stdout",
     "output_type": "stream",
     "text": [
      "Shape of test data from test.csv (2488, 9)\n"
     ]
    }
   ],
   "source": [
    "# Defining the X_test_data from the test.csv to make the prediction\n",
    "\n",
    "X_test_data = test\n",
    "\n",
    "print(\"Shape of test data from test.csv\",X_test_data.shape)\n",
    "\n",
    "# Initialize the StandardScaler\n",
    "scaler = StandardScaler()\n",
    "\n",
    "# Fit the scaler to the data and transform it\n",
    "X_test_data = scaler.fit_transform(X_test_data)\n"
   ]
  },
  {
   "cell_type": "markdown",
   "id": "a807ae4f",
   "metadata": {
    "id": "a807ae4f"
   },
   "source": [
    "# 2. Neural Network Implementation from Scratch:\n",
    "• Implement a two-layer neural network model from scratch focusing on understanding\n",
    "the underlying mathematics and operations (e.g., forward propagation,\n",
    "backpropagation).\n",
    "• Apply the model to the preprocessed dataset.\n",
    "• Investigate how the choice of activation function Sigmoid vs. ReLU affects the\n",
    "performance"
   ]
  },
  {
   "cell_type": "code",
   "execution_count": 21,
   "id": "a0672aec",
   "metadata": {
    "id": "a0672aec"
   },
   "outputs": [],
   "source": [
    "# Activation Functions\n",
    "\n",
    "# Sigmoid\n",
    "\n",
    "def sigmoid(t):\n",
    "    return 1/(1 + np.exp(-t))\n",
    "\n",
    "def sigmoid_prime(t):\n",
    "    return sigmoid(t)*(1-sigmoid(t))\n",
    "\n",
    "# Softmax\n",
    "def softmax(x):\n",
    "    e_x = np.exp(x - np.max(x))\n",
    "    return e_x / e_x.sum(axis=0)\n",
    "\n",
    "#Relu \n",
    "\n",
    "def relu(t):\n",
    "    return np.maximum(0.01 * t, t)\n",
    "\n",
    "def relu_prime(t):\n",
    "    return np.where(t>0, 1, 0.01)\n",
    "\n"
   ]
  },
  {
   "cell_type": "code",
   "execution_count": 22,
   "id": "ab5e481b",
   "metadata": {
    "id": "ab5e481b"
   },
   "outputs": [],
   "source": [
    "# Neural Network with Sigmoid Activation\n",
    "\n",
    "def NeuralNetwork(X, y, n_x, n_h, n_y, alpha, iterations):\n",
    "    w_1 = np.random.randn(n_h, n_x)\n",
    "    b_1 = np.zeros((n_h, 1))\n",
    "    w_2 = np.random.randn(n_y, n_h)\n",
    "    b_2 = np.zeros((n_y, 1))\n",
    "    error_list = []\n",
    "\n",
    "    for i in range(iterations):\n",
    "\n",
    "        # Forward Propagation\n",
    "        z_1 = np.dot(w_1, X) + b_1\n",
    "        a_1 = sigmoid(z_1)\n",
    "        z_2 = np.dot(w_2, a_1) + b_2\n",
    "        a_2 = softmax(z_2)\n",
    "\n",
    "        # Back Propagation\n",
    "        dz_2 = a_2 - y\n",
    "        dw_2 = np.dot(dz_2, a_1.T) / m\n",
    "        db_2 = np.sum(dz_2, axis=1, keepdims=True) / m\n",
    "        dz_1 = np.dot(w_2.T, dz_2) * sigmoid_prime(z_1)\n",
    "        dw_1 = np.dot(dz_1, X.T) / m\n",
    "        db_1 = np.sum(dz_1, axis=1, keepdims=True) / m\n",
    "\n",
    "        w_2 -= alpha * dw_2\n",
    "        b_2 -= alpha * db_2\n",
    "        w_1 -= alpha * dw_1\n",
    "        b_1 -= alpha * db_1\n",
    "        error = -1.0 / m * np.sum(\n",
    "            np.sum(y * np.log(a_2)) +\n",
    "            np.sum((1 - y) * np.log(1 - a_2))\n",
    "        )\n",
    "        error_list.append(error)\n",
    "\n",
    "    return w_1, b_1, w_2, b_2, error_list\n"
   ]
  },
  {
   "cell_type": "code",
   "execution_count": 23,
   "id": "e9167274",
   "metadata": {},
   "outputs": [],
   "source": [
    "# Neural Network with Relu Activation\n",
    "\n",
    "def NeuralNetwork_Relu(X, y, n_x, n_h, n_y, alpha, iterations):\n",
    "    w_1 = np.random.randn(n_h, n_x)\n",
    "    b_1 = np.zeros((n_h, 1))\n",
    "    w_2 = np.random.randn(n_y, n_h)\n",
    "    b_2 = np.zeros((n_y, 1))\n",
    "    error_list = []\n",
    "\n",
    "    for i in range(iterations):\n",
    "\n",
    "        # Forward Propagation\n",
    "        z_1 = np.dot(w_1, X) + b_1\n",
    "        a_1 = relu(z_1)\n",
    "        z_2 = np.dot(w_2, a_1) + b_2\n",
    "        a_2 = softmax(z_2)\n",
    "\n",
    "        # Back Propagation\n",
    "        dz_2 = a_2 - y\n",
    "        dw_2 = np.dot(dz_2, a_1.T) / m\n",
    "        db_2 = np.sum(dz_2, axis=1, keepdims=True) / m \n",
    "        dz_1 = np.dot(w_2.T, dz_2) * relu_prime(z_1)\n",
    "        dw_1 = np.dot(dz_1, X.T) / m\n",
    "        db_1 = np.sum(dz_1, axis=1, keepdims=True) / m\n",
    "\n",
    "        w_2 -= alpha * dw_2\n",
    "        b_2 -= alpha * db_2\n",
    "        w_1 -= alpha * dw_1\n",
    "        b_1 -= alpha * db_1\n",
    "        error = -1.0 / m * np.sum(\n",
    "            np.sum(y * np.log(a_2)) +\n",
    "            np.sum((1 - y) * np.log(1 - a_2))\n",
    "        )\n",
    "        error_list.append(error)\n",
    "\n",
    "    return w_1, b_1, w_2, b_2, error_list\n"
   ]
  },
  {
   "cell_type": "code",
   "execution_count": 24,
   "id": "fe8ca037",
   "metadata": {
    "id": "fe8ca037"
   },
   "outputs": [],
   "source": [
    "# Further preprocessing data to make it fit for the defined two layer neural network model\n",
    "\n",
    "# Initialize the StandardScaler\n",
    "scaler = StandardScaler()\n",
    "\n",
    "# Fit the scaler to the data and transform it\n",
    "X = scaler.fit_transform(features)"
   ]
  },
  {
   "cell_type": "code",
   "execution_count": 25,
   "id": "Z43LraRCPBh7",
   "metadata": {
    "id": "Z43LraRCPBh7"
   },
   "outputs": [
    {
     "name": "stdout",
     "output_type": "stream",
     "text": [
      "(9, 7669) (7669,) (4, 7669)\n"
     ]
    }
   ],
   "source": [
    "# Using the One Hot Encoder on the labels\n",
    "# reorienting the dimensions of the data\n",
    "\n",
    "X = X.T\n",
    "y = labels.reshape(1, len(labels)).T\n",
    "enc = OneHotEncoder(categories='auto')\n",
    "enc.fit(y)\n",
    "y = enc.transform(y).toarray()\n",
    "y = y.T\n",
    "\n",
    "print(X.shape,labels.shape,y.shape)"
   ]
  },
  {
   "cell_type": "code",
   "execution_count": 26,
   "id": "00303378",
   "metadata": {
    "id": "00303378"
   },
   "outputs": [
    {
     "name": "stdout",
     "output_type": "stream",
     "text": [
      "9 7669 25 4 0.1 (9, 7669) (4, 7669)\n"
     ]
    }
   ],
   "source": [
    "# Defining the parameters\n",
    "n_x = X.shape[0]\n",
    "m = X.shape[1]\n",
    "\n",
    "n_h = 25\n",
    "n_y = 4\n",
    "alpha = 0.1 #Learning rate\n",
    "print(n_x, m, n_h, n_y, alpha, X.shape, y.shape)"
   ]
  },
  {
   "cell_type": "code",
   "execution_count": 27,
   "id": "d77e0941",
   "metadata": {},
   "outputs": [],
   "source": [
    "import time\n",
    "\n",
    "start_time = time.time()\n",
    "\n",
    "w_1, b_1, w_2, b_2, error_list = NeuralNetwork(X, y, n_x, n_h, n_y, alpha, 15000)\n",
    "\n",
    "end_time  = time.time()\n",
    "\n",
    "execution_time_sigmoid = end_time - start_time\n",
    "\n"
   ]
  },
  {
   "cell_type": "code",
   "execution_count": 28,
   "id": "9f0d5e48",
   "metadata": {},
   "outputs": [
    {
     "name": "stdout",
     "output_type": "stream",
     "text": [
      "Execution time with Sigmoid Activation function is 685.5416119098663\n"
     ]
    },
    {
     "data": {
      "text/plain": [
       "Text(0, 0.5, 'Cost')"
      ]
     },
     "execution_count": 28,
     "metadata": {},
     "output_type": "execute_result"
    },
    {
     "data": {
      "image/png": "[encoded data removed]",
      "text/plain": [
       "<Figure size 640x480 with 1 Axes>"
      ]
     },
     "metadata": {},
     "output_type": "display_data"
    }
   ],
   "source": [
    "print(\"Execution time with Sigmoid Activation function is\",execution_time_sigmoid)\n",
    "\n",
    "fig = plt.figure()\n",
    "plt.plot(range(len(error_list)), error_list)\n",
    "fig.suptitle('Iterations', fontsize=14)\n",
    "plt.xlabel('Iterations', fontsize=14)\n",
    "plt.ylabel('Cost', fontsize=14)"
   ]
  },
  {
   "cell_type": "code",
   "execution_count": 29,
   "id": "5416a2f9",
   "metadata": {
    "id": "5416a2f9"
   },
   "outputs": [],
   "source": [
    "# Making predictions\n",
    "\n",
    "z1 = np.dot(w_1, X) + b_1\n",
    "a1 = sigmoid(z1)\n",
    "z2 = np.dot(w_2, a1) + b_2\n",
    "a2 = softmax(z2)\n",
    "pred = np.argmax(a2, axis=0)\n"
   ]
  },
  {
   "cell_type": "code",
   "execution_count": 30,
   "id": "c42ce10d",
   "metadata": {},
   "outputs": [
    {
     "name": "stdout",
     "output_type": "stream",
     "text": [
      "Accuracy: 54.074846785760855\n",
      "[[ 892  375  197  403]\n",
      " [ 423  621  494  241]\n",
      " [ 209  367 1070  250]\n",
      " [ 393  102   68 1564]]\n",
      "              precision    recall  f1-score   support\n",
      "\n",
      "           0       0.47      0.48      0.47      1867\n",
      "           1       0.42      0.35      0.38      1779\n",
      "           2       0.59      0.56      0.57      1896\n",
      "           3       0.64      0.74      0.68      2127\n",
      "\n",
      "    accuracy                           0.54      7669\n",
      "   macro avg       0.53      0.53      0.53      7669\n",
      "weighted avg       0.53      0.54      0.53      7669\n",
      "\n"
     ]
    }
   ],
   "source": [
    "# Accuracy, Confusion Matrix and Classification Report for model with Sigmoid as Activation function\n",
    "\n",
    "accuracy = accuracy_score(labels, pred)\n",
    "print('Accuracy:',accuracy*100)\n",
    "\n",
    "cm = confusion_matrix(labels, pred)\n",
    "print(cm)\n",
    "classification_report(labels, pred)\n",
    "print(classification_report(labels, pred))"
   ]
  },
  {
   "cell_type": "code",
   "execution_count": 31,
   "id": "bfe17b8c",
   "metadata": {
    "id": "bfe17b8c"
   },
   "outputs": [],
   "source": [
    "# Making predictions of labels on test.csv Actiation function Sigmoid \n",
    "\n",
    "Z1 = np.dot(w_1, X_test_data.T) + b_1\n",
    "A1 = sigmoid(Z1)\n",
    "Z2 = np.dot(w_2, A1) + b_2\n",
    "A2 = softmax(Z2)\n",
    "\n",
    "predictions1 = np.argmax(A2, axis=0)\n"
   ]
  },
  {
   "cell_type": "code",
   "execution_count": 32,
   "id": "80c09738",
   "metadata": {
    "id": "80c09738"
   },
   "outputs": [
    {
     "name": "stdout",
     "output_type": "stream",
     "text": [
      "[0 1 2 ... 0 1 3]\n",
      "['A', 'B', 'C', 'D', 'B', 'A', 'C', 'C', 'D', 'D']\n"
     ]
    }
   ],
   "source": [
    "# Printing predictions on the X_test_data\n",
    "\n",
    "print(predictions1)\n",
    "\n",
    "# Define a mapping dictionary\n",
    "class_mapping = {0: 'A', 1: 'B', 2: 'C', 3: 'D'}\n",
    "\n",
    "# Convert numerical predictions to classes\n",
    "pred_classes = [class_mapping[pred] for pred in predictions1]\n",
    "\n",
    "#Prinitng first 10  predictions classes \n",
    "print(pred_classes[:10]) "
   ]
  },
  {
   "cell_type": "code",
   "execution_count": 33,
   "id": "ae40566e",
   "metadata": {},
   "outputs": [],
   "source": [
    "st_time = time.time()\n",
    "\n",
    "W_1, B_1, W_2, B_2, cost_list = NeuralNetwork_Relu(X, y, n_x, n_h, n_y, alpha, 15000)\n",
    "\n",
    "ed_time = time.time()\n",
    " \n",
    "execution_time_relu = ed_time - st_time\n"
   ]
  },
  {
   "cell_type": "code",
   "execution_count": 34,
   "id": "f9f94f54",
   "metadata": {},
   "outputs": [
    {
     "name": "stdout",
     "output_type": "stream",
     "text": [
      "Execution time with Relu Activation function is 265.2095708847046\n"
     ]
    },
    {
     "data": {
      "text/plain": [
       "Text(0, 0.5, 'Cost')"
      ]
     },
     "execution_count": 34,
     "metadata": {},
     "output_type": "execute_result"
    },
    {
     "data": {
      "image/png": "[encoded data removed]",
      "text/plain": [
       "<Figure size 640x480 with 1 Axes>"
      ]
     },
     "metadata": {},
     "output_type": "display_data"
    }
   ],
   "source": [
    "print(\"Execution time with Relu Activation function is\",execution_time_relu)\n",
    "\n",
    "# Learning curve or Loss vs iterations curve \n",
    "\n",
    "fig = plt.figure()\n",
    "plt.plot(range(len(cost_list)), cost_list)\n",
    "fig.suptitle('Iterations', fontsize=14)\n",
    "plt.xlabel('Iterations', fontsize=14)\n",
    "plt.ylabel('Cost', fontsize=14)"
   ]
  },
  {
   "cell_type": "code",
   "execution_count": 35,
   "id": "2d86fd79",
   "metadata": {},
   "outputs": [],
   "source": [
    "# Making predictions\n",
    "\n",
    "z1 = np.dot(W_1, X) + B_1\n",
    "a1 = relu(z1)\n",
    "z2 = np.dot(W_2, a1) + B_2\n",
    "a2 = softmax(z2) \n",
    "prediction_relu = np.argmax(a2, axis=0)"
   ]
  },
  {
   "cell_type": "code",
   "execution_count": 36,
   "id": "ad9964b0",
   "metadata": {},
   "outputs": [
    {
     "name": "stdout",
     "output_type": "stream",
     "text": [
      "Accuracy: 54.622506193767116\n",
      "[[ 911  320  233  403]\n",
      " [ 449  579  537  214]\n",
      " [ 208  293 1147  248]\n",
      " [ 403  104   68 1552]]\n",
      "              precision    recall  f1-score   support\n",
      "\n",
      "           0       0.46      0.49      0.47      1867\n",
      "           1       0.45      0.33      0.38      1779\n",
      "           2       0.58      0.60      0.59      1896\n",
      "           3       0.64      0.73      0.68      2127\n",
      "\n",
      "    accuracy                           0.55      7669\n",
      "   macro avg       0.53      0.54      0.53      7669\n",
      "weighted avg       0.54      0.55      0.54      7669\n",
      "\n"
     ]
    }
   ],
   "source": [
    "# Confusion Matrix and Classification Report for model with Sigmoid as Activation function\n",
    "\n",
    "accuracy = accuracy_score(labels, prediction_relu)\n",
    "print('Accuracy:',accuracy*100)\n",
    "\n",
    "cm1 = confusion_matrix(labels, prediction_relu)\n",
    "print(cm1)\n",
    "classification_report(labels, prediction_relu)\n",
    "print(classification_report(labels, prediction_relu))"
   ]
  },
  {
   "cell_type": "code",
   "execution_count": 37,
   "id": "17005640",
   "metadata": {},
   "outputs": [],
   "source": [
    "# Making predictions of labels on test.csv Actiation function Sigmoid \n",
    "\n",
    "z1 = np.dot(W_1, X_test_data.T) + B_1\n",
    "a1 = relu(z1)\n",
    "z2 = np.dot(W_2, a1) + B_2\n",
    "a2 = softmax(z2) \n",
    "prediction2 = np.argmax(a2, axis=0)\n"
   ]
  },
  {
   "cell_type": "code",
   "execution_count": 38,
   "id": "c7654200",
   "metadata": {},
   "outputs": [
    {
     "name": "stdout",
     "output_type": "stream",
     "text": [
      "[0 2 2 ... 0 1 3]\n",
      "['A', 'C', 'C', 'D', 'A', 'B', 'C', 'C', 'D', 'D']\n"
     ]
    }
   ],
   "source": [
    "# Printing prediction on the X_test_data\n",
    "\n",
    "print(prediction2)\n",
    "\n",
    "# Define a mapping dictionary\n",
    "class_mapping = {0: 'A', 1: 'B', 2: 'C', 3: 'D'}\n",
    "\n",
    "# Convert numerical predictions to classes\n",
    "pred_classes = [class_mapping[pred] for pred in prediction2]\n",
    "\n",
    "print(pred_classes[0:10])"
   ]
  },
  {
   "cell_type": "code",
   "execution_count": 39,
   "id": "2b7622e2",
   "metadata": {},
   "outputs": [
    {
     "data": {
      "image/png": "[encoded data removed]",
      "text/plain": [
       "<Figure size 640x480 with 1 Axes>"
      ]
     },
     "metadata": {},
     "output_type": "display_data"
    }
   ],
   "source": [
    "# Plot execution time for each activation function\n",
    "plt.bar(['Sigmoid', 'ReLU'], [execution_time_sigmoid, execution_time_relu],color='red')\n",
    "plt.xlabel('Activation Function')\n",
    "plt.ylabel('Execution Time (seconds)')\n",
    "plt.title('Neural Network Execution Time with Different Activation Functions')\n",
    "plt.show() "
   ]
  },
  {
   "cell_type": "markdown",
   "id": "025c9f56",
   "metadata": {
    "id": "025c9f56"
   },
   "source": [
    "# 3. Neural Network using Scikit-learn:\n",
    "• Use MLPClassifier class of the scikit-learn library to implement a neural network model\n",
    "with 2 layers.\n",
    "• Train the model on the preprocessed dataset.\n",
    "• Repeat with three layers.\n",
    "• Investigate how the accuracy of the two-layer neural network model varies with the\n",
    "number of neurons in each hidden layer.\n",
    "• Plot a graph with the number of neurons on the X-axis and the corresponding accuracy\n",
    "on the Y-axis.\n",
    "• Provide a brief analysis of how the number of neurons in the hidden layers affects the\n",
    "model's performance. Consider discussing any trends, optimal neuron counts, and\n",
    "possible reasons for the observed performance changes"
   ]
  },
  {
   "cell_type": "code",
   "execution_count": 40,
   "id": "3ac3a577",
   "metadata": {
    "id": "3ac3a577"
   },
   "outputs": [
    {
     "name": "stdout",
     "output_type": "stream",
     "text": [
      "(7669, 9) (7669,)\n"
     ]
    }
   ],
   "source": [
    "# Printing shapes of features (X) and target variable (y)\n",
    "\n",
    "print(features.shape, labels.shape)\n",
    "\n",
    "# Accuracies \n",
    "\n",
    "accuracies = []\n",
    "\n",
    "# Splitting features to traning and testing data\n",
    "\n",
    "X_train, X_test, y_train, y_test = train_test_split(features, labels, test_size = 0.25)\n"
   ]
  },
  {
   "cell_type": "code",
   "execution_count": 41,
   "id": "04152cfe",
   "metadata": {
    "id": "04152cfe"
   },
   "outputs": [],
   "source": [
    "# Normalizing the data\n",
    "\n",
    "sc=StandardScaler()\n",
    "\n",
    "scaler = sc.fit(X_train)\n",
    "X_train_scaled = scaler.transform(X_train)\n",
    "X_test_scaled = scaler.transform(X_test)\n"
   ]
  },
  {
   "cell_type": "code",
   "execution_count": 42,
   "id": "a3148383",
   "metadata": {
    "id": "a3148383"
   },
   "outputs": [],
   "source": [
    "# Multilayer classifier Model 1 (Two layer)\n",
    " \n",
    "mlp_clf1 = MLPClassifier(hidden_layer_sizes=(16,8),\n",
    "                        max_iter = 2000,activation = 'relu', solver = 'adam')\n"
   ]
  },
  {
   "cell_type": "code",
   "execution_count": 43,
   "id": "4a29cfd3",
   "metadata": {
    "id": "4a29cfd3"
   },
   "outputs": [
    {
     "name": "stdout",
     "output_type": "stream",
     "text": [
      "Accuracy: 51.668404588112615\n",
      "[[206 106  52 106]\n",
      " [124 137 111  53]\n",
      " [ 60  92 261  57]\n",
      " [113  29  24 387]]\n",
      "              precision    recall  f1-score   support\n",
      "\n",
      "           0       0.41      0.44      0.42       470\n",
      "           1       0.38      0.32      0.35       425\n",
      "           2       0.58      0.56      0.57       470\n",
      "           3       0.64      0.70      0.67       553\n",
      "\n",
      "    accuracy                           0.52      1918\n",
      "   macro avg       0.50      0.50      0.50      1918\n",
      "weighted avg       0.51      0.52      0.51      1918\n",
      "\n"
     ]
    }
   ],
   "source": [
    "mlp_clf1.fit(X_train_scaled, y_train)\n",
    "\n",
    "y_pred = mlp_clf1.predict(X_test_scaled)\n",
    "\n",
    "mlp_clf1_accuracy = accuracy_score(y_test, y_pred)\n",
    "\n",
    "accuracies.append(mlp_clf1_accuracy)\n",
    "\n",
    "print('Accuracy:',mlp_clf1_accuracy*100)\n",
    "\n",
    "print(confusion_matrix(y_test, y_pred))\n",
    "print(classification_report(y_test, y_pred))\n"
   ]
  },
  {
   "cell_type": "code",
   "execution_count": 44,
   "id": "eb2a6940",
   "metadata": {
    "id": "eb2a6940"
   },
   "outputs": [
    {
     "data": {
      "image/png": "[encoded data removed]",
      "text/plain": [
       "<Figure size 640x480 with 1 Axes>"
      ]
     },
     "metadata": {},
     "output_type": "display_data"
    }
   ],
   "source": [
    "# Loss vs iterations plot\n",
    "\n",
    "plt.plot(mlp_clf1.loss_curve_)\n",
    "plt.title(\"Loss Curve\", fontsize=14)\n",
    "plt.xlabel('Iterations')\n",
    "plt.ylabel('Cost')\n",
    "plt.show()\n"
   ]
  },
  {
   "cell_type": "code",
   "execution_count": 45,
   "id": "b5d4387b",
   "metadata": {
    "id": "b5d4387b"
   },
   "outputs": [],
   "source": [
    "# Multilayer classifier Model 2 (Two layer)\n",
    "\n",
    "mlp_clf2 = MLPClassifier(hidden_layer_sizes=(32,16),\n",
    "                        max_iter = 2000,activation = 'relu', solver = 'adam')"
   ]
  },
  {
   "cell_type": "code",
   "execution_count": 46,
   "id": "aea5683e",
   "metadata": {},
   "outputs": [
    {
     "name": "stdout",
     "output_type": "stream",
     "text": [
      "Accuracy: 49.582898852971844\n",
      "[[203 104  68  95]\n",
      " [121 137 115  52]\n",
      " [ 56 102 263  49]\n",
      " [128  34  43 348]]\n",
      "              precision    recall  f1-score   support\n",
      "\n",
      "           0       0.40      0.43      0.42       470\n",
      "           1       0.36      0.32      0.34       425\n",
      "           2       0.54      0.56      0.55       470\n",
      "           3       0.64      0.63      0.63       553\n",
      "\n",
      "    accuracy                           0.50      1918\n",
      "   macro avg       0.49      0.49      0.48      1918\n",
      "weighted avg       0.49      0.50      0.49      1918\n",
      "\n"
     ]
    }
   ],
   "source": [
    "mlp_clf2.fit(X_train_scaled, y_train)\n",
    "\n",
    "y_pred = mlp_clf2.predict(X_test_scaled)\n",
    "\n",
    "mlp_clf2_accuracy = accuracy_score(y_test, y_pred)\n",
    "\n",
    "accuracies.append(mlp_clf2_accuracy)\n",
    "\n",
    "print('Accuracy:',mlp_clf2_accuracy*100)\n",
    "\n",
    "print(confusion_matrix(y_test, y_pred))\n",
    "print(classification_report(y_test, y_pred))"
   ]
  },
  {
   "cell_type": "code",
   "execution_count": 47,
   "id": "bdc58913",
   "metadata": {},
   "outputs": [
    {
     "data": {
      "image/png": "[encoded data removed]",
      "text/plain": [
       "<Figure size 640x480 with 1 Axes>"
      ]
     },
     "metadata": {},
     "output_type": "display_data"
    }
   ],
   "source": [
    "# Loss vs iterations plot\n",
    "\n",
    "plt.plot(mlp_clf2.loss_curve_)\n",
    "plt.title(\"Loss Curve\", fontsize=14)\n",
    "plt.xlabel('Iterations')\n",
    "plt.ylabel('Cost')\n",
    "plt.show()\n"
   ]
  },
  {
   "cell_type": "code",
   "execution_count": 48,
   "id": "b893cf9a",
   "metadata": {},
   "outputs": [],
   "source": [
    "# Multilayer classifier Model 3 (Two layer)\n",
    "\n",
    "mlp_clf3 = MLPClassifier(hidden_layer_sizes=(128,64),\n",
    "                        max_iter = 2000,activation = 'relu', solver = 'adam')"
   ]
  },
  {
   "cell_type": "code",
   "execution_count": 49,
   "id": "d61da46f",
   "metadata": {},
   "outputs": [
    {
     "name": "stdout",
     "output_type": "stream",
     "text": [
      "Accuracy: 48.018769551616266\n",
      "[[171 133  79  87]\n",
      " [ 96 152 127  50]\n",
      " [ 42 102 274  52]\n",
      " [109  65  55 324]]\n",
      "              precision    recall  f1-score   support\n",
      "\n",
      "           0       0.41      0.36      0.39       470\n",
      "           1       0.34      0.36      0.35       425\n",
      "           2       0.51      0.58      0.55       470\n",
      "           3       0.63      0.59      0.61       553\n",
      "\n",
      "    accuracy                           0.48      1918\n",
      "   macro avg       0.47      0.47      0.47      1918\n",
      "weighted avg       0.48      0.48      0.48      1918\n",
      "\n"
     ]
    }
   ],
   "source": [
    "mlp_clf3.fit(X_train_scaled, y_train)\n",
    "\n",
    "y_pred = mlp_clf3.predict(X_test_scaled)\n",
    "\n",
    "mlp_clf3_accuracy = accuracy_score(y_test, y_pred)\n",
    "\n",
    "accuracies.append(mlp_clf3_accuracy)\n",
    "\n",
    "print('Accuracy:',mlp_clf3_accuracy*100)\n",
    "\n",
    "print(confusion_matrix(y_test, y_pred))\n",
    "print(classification_report(y_test, y_pred))"
   ]
  },
  {
   "cell_type": "code",
   "execution_count": 50,
   "id": "aad0a3ca",
   "metadata": {},
   "outputs": [
    {
     "data": {
      "image/png": "[encoded data removed]",
      "text/plain": [
       "<Figure size 640x480 with 1 Axes>"
      ]
     },
     "metadata": {},
     "output_type": "display_data"
    }
   ],
   "source": [
    "# Loss vs iterations plot\n",
    "\n",
    "plt.plot(mlp_clf3.loss_curve_)\n",
    "plt.title(\"Loss Curve\", fontsize=14)\n",
    "plt.xlabel('Iterations')\n",
    "plt.ylabel('Cost')\n",
    "plt.show()"
   ]
  },
  {
   "cell_type": "code",
   "execution_count": 51,
   "id": "7ab4a644",
   "metadata": {},
   "outputs": [
    {
     "data": {
      "image/png": "[encoded data removed]",
      "text/plain": [
       "<Figure size 640x480 with 1 Axes>"
      ]
     },
     "metadata": {},
     "output_type": "display_data"
    }
   ],
   "source": [
    "# Plot the graph\n",
    "#plt.plot(neurons_range, accuracies, label='2 Layers')\n",
    "\n",
    "neurons_range = [(16+8),(32+16),(128+64)]\n",
    "\n",
    "plt.plot(neurons_range, accuracies, label='2 layers Neural network', marker ='o', color ='red')\n",
    "plt.xlabel('Number of Neurons in Hidden Layers')\n",
    "plt.ylabel('Accuracy')\n",
    "plt.title('Accuracy vs Number of Neurons in Hidden Layers')\n",
    "plt.legend()\n",
    "plt.grid(True)\n",
    "plt.show()"
   ]
  },
  {
   "cell_type": "code",
   "execution_count": 52,
   "id": "033cef6d",
   "metadata": {},
   "outputs": [],
   "source": [
    "# Multilayer classifier Model 1 (Three layer)\n",
    " \n",
    "mlp_clf1_3layer = MLPClassifier(hidden_layer_sizes=(32,16,8),\n",
    "                        max_iter = 2000,activation = 'relu', solver = 'adam')"
   ]
  },
  {
   "cell_type": "code",
   "execution_count": 53,
   "id": "fa8f2972",
   "metadata": {},
   "outputs": [
    {
     "name": "stdout",
     "output_type": "stream",
     "text": [
      "Accuracy: 50.46923879040668\n",
      "[[199 105  70  96]\n",
      " [120 130 125  50]\n",
      " [ 52  93 274  51]\n",
      " [106  52  30 365]]\n",
      "              precision    recall  f1-score   support\n",
      "\n",
      "           0       0.42      0.42      0.42       470\n",
      "           1       0.34      0.31      0.32       425\n",
      "           2       0.55      0.58      0.57       470\n",
      "           3       0.65      0.66      0.65       553\n",
      "\n",
      "    accuracy                           0.50      1918\n",
      "   macro avg       0.49      0.49      0.49      1918\n",
      "weighted avg       0.50      0.50      0.50      1918\n",
      "\n"
     ]
    }
   ],
   "source": [
    "mlp_clf1_3layer.fit(X_train_scaled, y_train)\n",
    "\n",
    "y_pred = mlp_clf1_3layer.predict(X_test_scaled)\n",
    "\n",
    "mlp_clf = accuracy_score(y_test, y_pred)\n",
    "\n",
    "\n",
    "\n",
    "print('Accuracy:',mlp_clf*100)\n",
    "\n",
    "print(confusion_matrix(y_test, y_pred))\n",
    "print(classification_report(y_test, y_pred))"
   ]
  },
  {
   "cell_type": "code",
   "execution_count": 54,
   "id": "a93d9bca",
   "metadata": {},
   "outputs": [
    {
     "data": {
      "image/png": "[encoded data removed]",
      "text/plain": [
       "<Figure size 640x480 with 1 Axes>"
      ]
     },
     "metadata": {},
     "output_type": "display_data"
    }
   ],
   "source": [
    "# Loss vs iterations plot\n",
    "\n",
    "plt.plot(mlp_clf1_3layer.loss_curve_)\n",
    "plt.title(\"Loss Curve\", fontsize=14)\n",
    "plt.xlabel('Iterations')\n",
    "plt.ylabel('Cost')\n",
    "plt.show()"
   ]
  },
  {
   "cell_type": "markdown",
   "id": "81e199eb",
   "metadata": {
    "id": "81e199eb"
   },
   "source": [
    "# 4. Logistic Regression Implementation:\n",
    "• Implement a logistic regression model using scikit-learn as a baseline for comparison.\n",
    "• Train the model on the same preprocessed dataset"
   ]
  },
  {
   "cell_type": "code",
   "execution_count": 58,
   "id": "7c7a5eed",
   "metadata": {
    "id": "7c7a5eed",
    "outputId": "ee66d09b-2e4c-4a74-9049-ba5139bdce88"
   },
   "outputs": [
    {
     "name": "stdout",
     "output_type": "stream",
     "text": [
      "Accuracy of Logistic Regression: 49.67405475880052\n",
      "[[254  66 118 126]\n",
      " [179  68 228  80]\n",
      " [ 94  51 345  80]\n",
      " [ 80  25  31 476]]\n",
      "              precision    recall  f1-score   support\n",
      "\n",
      "           0       0.42      0.45      0.43       564\n",
      "           1       0.32      0.12      0.18       555\n",
      "           2       0.48      0.61      0.53       570\n",
      "           3       0.62      0.78      0.69       612\n",
      "\n",
      "    accuracy                           0.50      2301\n",
      "   macro avg       0.46      0.49      0.46      2301\n",
      "weighted avg       0.47      0.50      0.47      2301\n",
      "\n"
     ]
    }
   ],
   "source": [
    "from sklearn.linear_model import LogisticRegression\n",
    "\n",
    "# Using preprocessed features and labels to split the data to test and train sets\n",
    "\n",
    "# Split data into train and test sets\n",
    "X_train, X_test, y_train, y_test = train_test_split(features, labels, test_size=0.3, random_state=42)\n",
    "\n",
    "# Initialize and train logistic regression model\n",
    "logistic_regression = LogisticRegression(max_iter=1000)\n",
    "logistic_regression.fit(X_train, y_train)\n",
    "\n",
    "\n",
    "# Make predictions\n",
    "y_pred = logistic_regression.predict(X_test)\n",
    "\n",
    "\n",
    "# Calculate accuracy\n",
    "accuracy = accuracy_score(y_test, y_pred)\n",
    "print(\"Accuracy of Logistic Regression:\", accuracy*100)\n",
    "print(confusion_matrix(y_test, y_pred))\n",
    "print(classification_report(y_test, y_pred))\n"
   ]
  },
  {
   "cell_type": "code",
   "execution_count": 56,
   "id": "7cc76254",
   "metadata": {},
   "outputs": [
    {
     "name": "stdout",
     "output_type": "stream",
     "text": [
      "[0 1 3 ... 0 1 3]\n"
     ]
    }
   ],
   "source": [
    "# Make predictions on the test.csv\n",
    "\n",
    "y_pred1 = logistic_regression.predict(X_test_data)\n",
    "\n",
    "# Printing predicitions on the test.csv\n",
    "\n",
    "print(y_pred1)"
   ]
  },
  {
   "cell_type": "markdown",
   "id": "9755c848",
   "metadata": {},
   "source": [
    "# 5. Evaluation and Comparison:\n",
    "• Display the learning curve for each model to understand the training process.\n",
    "• Evaluate the performance of each model using a confusion matrix and classification \n",
    "report.\n",
    "• Compare the performance of the neural network models with logistic regression, \n",
    "discussing the strengths and weaknesses of each approach.\n"
   ]
  },
  {
   "cell_type": "markdown",
   "id": "a27e86ee",
   "metadata": {},
   "source": [
    "Accuracy, confusion matrix and classification report for Neural network model implemented with sigmoid as activation function is below \n",
    "\n",
    "Execution time with Sigmoid Activation function is 685.5415522098541\n",
    "\n",
    "Accuracy: 54.23132090233407\n",
    "[[ 895  363  218  391]\n",
    " [ 437  581  539  222]\n",
    " [ 202  321 1123  250]\n",
    " [ 401  114   52 1560]]\n",
    "              precision    recall  f1-score   support\n",
    "\n",
    "           0       0.46      0.48      0.47      1867\n",
    "           1       0.42      0.33      0.37      1779\n",
    "           2       0.58      0.59      0.59      1896\n",
    "           3       0.64      0.73      0.69      2127\n",
    "\n",
    "    accuracy                           0.54      7669\n",
    "   macro avg       0.53      0.53      0.53      7669\n",
    "weighted avg       0.53      0.54      0.54      7669\n",
    "\n",
    "\n",
    "\n",
    "Accuracy, confusion matrix and classification report for Neural network model implemented with Relu as activation function is below \n",
    "\n",
    "Execution time with Relu Activation function is 265.8711338043213\n",
    "\n",
    "Accuracy: 54.626032077193894\n",
    "[[ 886  337  266  378]\n",
    " [ 437  608  532  202]\n",
    " [ 221  311 1126  238]\n",
    " [ 402  110   58 1557]]\n",
    "              precision    recall  f1-score   support\n",
    "\n",
    "           0       0.46      0.47      0.46      1867\n",
    "           1       0.45      0.34      0.39      1779\n",
    "           2       0.57      0.59      0.58      1896\n",
    "           3       0.66      0.73      0.69      2127\n",
    "\n",
    "    accuracy                           0.54      7669\n",
    "   macro avg       0.53      0.54      0.53      7669\n",
    "weighted avg       0.54      0.54      0.54      7669\n",
    "\n",
    "\n",
    "We can observe that the accuracy of both the models which different activation functions are almost but we see that the execution time taken for the Sigmoid is very high as compared to the Relu for the same number of epochs(iterations).\n",
    "\n",
    "From these observation we can conclude that Relu activation function convergers faster than the Sigmoid\n"
   ]
  },
  {
   "cell_type": "markdown",
   "id": "6c6bcc88",
   "metadata": {},
   "source": [
    "Accuracy, confusion matrix and classification report for Two Neural network model implemented with (16,8) neurons in first and second layer\n",
    "\n",
    "Model 1\n",
    "\n",
    "Accuracy: 53.4932221063608\n",
    "[[213  86  49 103]\n",
    " [124 125 143  56]\n",
    " [ 62  71 295  65]\n",
    " [ 99  19  15 393]]\n",
    "              precision    recall  f1-score   support\n",
    "\n",
    "           0       0.43      0.47      0.45       451\n",
    "           1       0.42      0.28      0.33       448\n",
    "           2       0.59      0.60      0.59       493\n",
    "           3       0.64      0.75      0.69       526\n",
    "\n",
    "    accuracy                           0.53      1918\n",
    "   macro avg       0.52      0.52      0.52      1918\n",
    "weighted avg       0.52      0.53      0.52      1918\n",
    "\n",
    "Accuracy, confusion matrix and classification report for Two Neural network model implemented with (32,16) neurons in first and second layer\n",
    "\n",
    "Model 2\n",
    "\n",
    "Accuracy: 52.24191866527633\n",
    "[[181 105  62 103]\n",
    " [114 126 160  48]\n",
    " [ 49  80 304  60]\n",
    " [ 86  27  22 391]]\n",
    "              precision    recall  f1-score   support\n",
    "\n",
    "           0       0.42      0.40      0.41       451\n",
    "           1       0.37      0.28      0.32       448\n",
    "           2       0.55      0.62      0.58       493\n",
    "           3       0.65      0.74      0.69       526\n",
    "\n",
    "    accuracy                           0.52      1918\n",
    "   macro avg       0.50      0.51      0.50      1918\n",
    "weighted avg       0.51      0.52      0.51      1918\n",
    "\n",
    "\n",
    "Accuracy, confusion matrix and classification report for Two Neural network model implemented with (128,64) neurons in first and second layer\n",
    "\n",
    "Model 3\n",
    "\n",
    "Accuracy: 48.6444212721585\n",
    "[[183 106  77  85]\n",
    " [104 123 170  51]\n",
    " [ 70  81 285  57]\n",
    " [ 87  45  52 342]]\n",
    "              precision    recall  f1-score   support\n",
    "\n",
    "           0       0.41      0.41      0.41       451\n",
    "           1       0.35      0.27      0.31       448\n",
    "           2       0.49      0.58      0.53       493\n",
    "           3       0.64      0.65      0.64       526\n",
    "\n",
    "    accuracy                           0.49      1918\n",
    "   macro avg       0.47      0.48      0.47      1918\n",
    "weighted avg       0.48      0.49      0.48      1918\n",
    "\n",
    "From the loss curves of these model which are above we can see that model convereged within 250 epochs and aslo the accuracy of the model is also good compared to other two models with different number of neurons\n",
    "\n",
    "For the model 3 loss vs iterations curve we can see that the loss has reached minimal compared to model 1 and 2 but the accuracy of the model3 is dropped compared to other models which means the model is overfitted and didn't performed well on the test data.\n",
    "\n",
    "So we can conclude that as we increase the number of neurons the model started getting overfitted as the complexicity of model is increased but with the limited training data and also the accuracy is dropped. "
   ]
  },
  {
   "cell_type": "markdown",
   "id": "b0cb8096",
   "metadata": {},
   "source": [
    "Accuracy, confusion matrix and classification report for Two Neural network model implemented with (32,16,8) neurons in first,second and third layer consecutively \n",
    "\n",
    "Accuracy: 52.24191866527633\n",
    "[[207  99  54  91]\n",
    " [106 138 151  53]\n",
    " [ 71  84 283  55]\n",
    " [ 92  32  28 374]]\n",
    "              precision    recall  f1-score   support\n",
    "\n",
    "           0       0.43      0.46      0.45       451\n",
    "           1       0.39      0.31      0.34       448\n",
    "           2       0.55      0.57      0.56       493\n",
    "           3       0.65      0.71      0.68       526\n",
    "\n",
    "    accuracy                           0.52      1918\n",
    "   macro avg       0.51      0.51      0.51      1918\n",
    "weighted avg       0.51      0.52      0.52      1918"
   ]
  },
  {
   "cell_type": "markdown",
   "id": "578ee5f7",
   "metadata": {},
   "source": [
    "Accuracy, confusion matrix and classification report for Logistic regression model implemented using the scikit learn library\n",
    "\n",
    "Accuracy of Logistic Regression: 49.67405475880052\n",
    "[[254  66 118 126]\n",
    " [179  68 228  80]\n",
    " [ 94  51 345  80]\n",
    " [ 80  25  31 476]]\n",
    "              precision    recall  f1-score   support\n",
    "\n",
    "           0       0.42      0.45      0.43       564\n",
    "           1       0.32      0.12      0.18       555\n",
    "           2       0.48      0.61      0.53       570\n",
    "           3       0.62      0.78      0.69       612\n",
    "\n",
    "    accuracy                           0.50      2301\n",
    "   macro avg       0.46      0.49      0.46      2301\n",
    "weighted avg       0.47      0.50      0.47      2301"
   ]
  },
  {
   "cell_type": "markdown",
   "id": "d230092c",
   "metadata": {},
   "source": [
    "Comparision of performance of Neural network with logistic regression model on the above data\n",
    "\n",
    "We can see that the accuracy obtained with both the approaches is almost nearly same but the Neural network perfomed well with highest accuracy but the execution time is comparitively high compared to the logistic regression model.\n",
    "\n",
    "The logistic regression model performs very good on the small datasets and would much faster compared to the Neural network, if the architecture of the neural network is complex it makes the model to get overfitted, so neural networks are prone to overfitting problem when the dataset is small or the training data size is limited.\n",
    "\n",
    "So it depends on the nature of dataset to choose the perfect model which perform well on the data.\n",
    "\n",
    "\n",
    "\n",
    "Comparing the performance of neural network models with logistic regression involves considering various factors such as accuracy, computational complexity, interpretability, and suitability for the given task. \n",
    "\n",
    "Neural Network Models:\n",
    "Pros:\n",
    "Non-linearity:Neural networks are well-suited for jobs with sophisticated patterns because they are able to learn complex non-linear correlations between features and goal variables.\n",
    "Flexibility: Neural networks can handle large amounts of data and are capable of capturing intricate patterns, making them suitable for a wide range of tasks including image recognition, natural language processing, and time-series forecasting.\n",
    "\n",
    "Cons:\n",
    "Complexity: Neural networks are complex models with many parameters, making them computationally expensive to train, especially for large datasets.\n",
    "Overfitting: Prone to overfitting, especially with complex architectures and limited data.\n",
    "\n",
    "\n",
    "Logistic Regression:\n",
    "\n",
    "Efficiency: Computationally efficient and quick to train, even on large datasets.\n",
    "Linear Boundaries: Limited to capturing linear relationships between features and target.\n",
    "Limited Expressiveness: May not capture intricate relationships as effectively as neural networks.\n",
    "Data Requirement: Can perform well with smaller datasets.\n",
    "Accuracy: May have lower accuracy compared to neural networks for complex tasks.\n",
    "\n",
    "\n",
    "In conclusion, neural networks are very flexible and accurate, but they also require a lot of processing power and are harder to understand. Contrarily, logistic regression is effective, comprehensible, and appropriate for smaller datasets; nevertheless, it might not be as good at capturing intricate correlations. The decision between them is based on the resources that are available, the complexity of the activity, and the necessity for interpretability.\n"
   ]
  }
 ],
 "metadata": {
  "colab": {
   "provenance": []
  },
  "kernelspec": {
   "display_name": "Python 3 (ipykernel)",
   "language": "python",
   "name": "python3"
  },
  "language_info": {
   "codemirror_mode": {
    "name": "ipython",
    "version": 3
   },
   "file_extension": ".py",
   "mimetype": "text/x-python",
   "name": "python",
   "nbconvert_exporter": "python",
   "pygments_lexer": "ipython3",
   "version": "3.10.13"
  },
  "varInspector": {
   "cols": {
    "lenName": 16,
    "lenType": 16,
    "lenVar": 40
   },
   "kernels_config": {
    "python": {
     "delete_cmd_postfix": "",
     "delete_cmd_prefix": "del ",
     "library": "var_list.py",
     "varRefreshCmd": "print(var_dic_list())"
    },
    "r": {
     "delete_cmd_postfix": ") ",
     "delete_cmd_prefix": "rm(",
     "library": "var_list.r",
     "varRefreshCmd": "cat(var_dic_list()) "
    }
   },
   "types_to_exclude": [
    "module",
    "function",
    "builtin_function_or_method",
    "instance",
    "_Feature"
   ],
   "window_display": false
  }
 },
 "nbformat": 4,
 "nbformat_minor": 5
}
